{
 "cells": [
  {
   "cell_type": "markdown",
   "id": "53b3bdd3",
   "metadata": {},
   "source": [
    "<h2><b> Object Oriented Progamming</h2></b>"
   ]
  },
  {
   "cell_type": "markdown",
   "id": "b6370517",
   "metadata": {},
   "source": [
    "## Class:\n",
    "A class is a user-defined blueprint or prototype from which objects are created. Classes provide a means of bundling data and functionality together. Creating a new class creates a new type of object, allowing new instances of that type to be made. Each class instance can have attributes attached to it for maintaining its state. Class instances can also have methods (defined by their class) for modifying their state.\n",
    "\n",
    "* <mark>Instance: </mark>is an object that belongs to a class. For instance, list is a class in Python. When we create a list, we have an instance of the list class.\n",
    "* <mark>Argument: </mark>an argument is a value that is passed to a function when it is called. It might be a variable, value or object passed to a function or method as input. They are written when we are calling the function.\n",
    "* <mark>Attribute: </mark>Class attributes are variables of a class that are shared between all of its instances. They differ from instance attributes in that instance attributes are owned by one specific instance of the class only, and are not shared between instances. \n",
    "* <mark>Parameter: </mark>a parameter is the variable listed inside the parentheses in the function definition. An argument is the value that is sent to the function when it is called.\n",
    "* <mark> __init__: </mark> acts as a constructor.\n",
    "* <mark> Constructor: </mark>are a special type of method used to initialize an object. Constructors are responsible for assigning values to the data members of a class when an object is created."
   ]
  },
  {
   "cell_type": "code",
   "execution_count": 1,
   "id": "aa0f805a",
   "metadata": {},
   "outputs": [],
   "source": [
    "class Sample():\n",
    "    pass"
   ]
  },
  {
   "cell_type": "code",
   "execution_count": 3,
   "id": "49ad78a8",
   "metadata": {},
   "outputs": [],
   "source": [
    "# \"my_sample\" is an instance of the Sample class \n",
    "\n",
    "my_sample = Sample()"
   ]
  },
  {
   "cell_type": "code",
   "execution_count": 4,
   "id": "80d2e867",
   "metadata": {},
   "outputs": [],
   "source": [
    "# Example of \"Argument\"\n",
    "\n",
    "# here a, b are the parameters \n",
    "def sum (a, b):\n",
    "    print (a + b)"
   ]
  },
  {
   "cell_type": "code",
   "execution_count": 27,
   "id": "c7a80b01",
   "metadata": {},
   "outputs": [],
   "source": [
    "class Dog():\n",
    "    \n",
    "    def __init__(self, breed, name, spots):\n",
    "        \n",
    "        # Attributes\n",
    "        # We take in the argument\n",
    "        # Assign it to \"self.attribute_name\"\n",
    "        self.breed = breed\n",
    "        self.name = name\n",
    "        \n",
    "        # Not all attributes are Strings\n",
    "        # For this example spots is expected as a boolean\n",
    "        self.spots = spots\n",
    "        \n",
    "        # OPERATIONS/ Actions ---> Methods\n",
    "        # It can also take other arguments and you pass the argument that is expected when calling the function\n",
    "        def bark(self, number):\n",
    "            print ('WOOF! My name is {}'.format(self.name, number))\n",
    "        "
   ]
  },
  {
   "cell_type": "code",
   "execution_count": 23,
   "id": "38d14991",
   "metadata": {},
   "outputs": [],
   "source": [
    "my_dog = Dog(breed='Huskie', name='Sammie', spots=False)"
   ]
  },
  {
   "cell_type": "code",
   "execution_count": 26,
   "id": "1b3c8271",
   "metadata": {},
   "outputs": [
    {
     "ename": "AttributeError",
     "evalue": "'Dog' object has no attribute 'bark'",
     "output_type": "error",
     "traceback": [
      "\u001b[0;31m---------------------------------------------------------------------------\u001b[0m",
      "\u001b[0;31mAttributeError\u001b[0m                            Traceback (most recent call last)",
      "Input \u001b[0;32mIn [26]\u001b[0m, in \u001b[0;36m<cell line: 8>\u001b[0;34m()\u001b[0m\n\u001b[1;32m      5\u001b[0m my_dog\u001b[38;5;241m.\u001b[39mspots\n\u001b[1;32m      7\u001b[0m \u001b[38;5;66;03m# Calling a method\u001b[39;00m\n\u001b[0;32m----> 8\u001b[0m \u001b[43mmy_dog\u001b[49m\u001b[38;5;241;43m.\u001b[39;49m\u001b[43mbark\u001b[49m()\n",
      "\u001b[0;31mAttributeError\u001b[0m: 'Dog' object has no attribute 'bark'"
     ]
    }
   ],
   "source": [
    "# Calling the Class\n",
    "\n",
    "my_dog.breed\n",
    "my_dog.name\n",
    "my_dog.spots\n",
    "\n",
    "# Calling a method\n",
    "my_dog.bark()"
   ]
  },
  {
   "cell_type": "markdown",
   "id": "0d9e5d78",
   "metadata": {},
   "source": [
    "## Class Attributes and Methods\n",
    "\n",
    "In Python there are also <mark>*class object attributes*</mark>. These Class Object Attributes are the same for any instance of the class. For example, we could create the attribute *species* for the Dog class. Dogs, regardless of their breed, name, or other attributes, will always be mammals. We apply this logic in the following manner:\n",
    "\n",
    "class Dog:\n",
    "    \n",
    "    # Class Object Attribute\n",
    "    species = 'mammal'\n",
    "    \n",
    "    def __init__(self,breed,name):\n",
    "        self.breed = breed\n",
    "        self.name = name\n",
    "        \n",
    "Note that the Class Object Attribute is defined outside of any methods in the class. Also by convention, we place them first before the init."
   ]
  },
  {
   "cell_type": "code",
   "execution_count": 39,
   "id": "438dd9b1",
   "metadata": {},
   "outputs": [],
   "source": [
    "# Example 2 of a class\n",
    "\n",
    "class Circle():\n",
    "    \n",
    "    # CLASS OBJECT ATTRIBUTE\n",
    "    pi = 3.14\n",
    "    \n",
    "    # Constructor method\n",
    "    def __init__(self, radius = 1):\n",
    "        \n",
    "        self.radius = radius\n",
    "        # We can also define the variable outside the argument\n",
    "        self.area = radius * radius * Circle.pi *2\n",
    "        \n",
    "     # Method inside constructor\n",
    "    def get_circumference(self):\n",
    "        return self.radius * Circle.pi *2\n"
   ]
  },
  {
   "cell_type": "code",
   "execution_count": 32,
   "id": "5d59dbe8",
   "metadata": {},
   "outputs": [],
   "source": [
    "# Creating an instance \n",
    "# Please note we can always override a value when calling/ creating the instance of the class\n",
    "my_circle = Circle(30)"
   ]
  },
  {
   "cell_type": "code",
   "execution_count": 34,
   "id": "7b0fd922",
   "metadata": {},
   "outputs": [
    {
     "data": {
      "text/plain": [
       "30"
      ]
     },
     "execution_count": 34,
     "metadata": {},
     "output_type": "execute_result"
    }
   ],
   "source": [
    "my_circle.radius"
   ]
  },
  {
   "cell_type": "code",
   "execution_count": 35,
   "id": "9ccfd3a7",
   "metadata": {},
   "outputs": [
    {
     "data": {
      "text/plain": [
       "188.4"
      ]
     },
     "execution_count": 35,
     "metadata": {},
     "output_type": "execute_result"
    }
   ],
   "source": [
    "my_circle.get_circumference()"
   ]
  },
  {
   "cell_type": "code",
   "execution_count": 36,
   "id": "85827baa",
   "metadata": {},
   "outputs": [
    {
     "data": {
      "text/plain": [
       "3.14"
      ]
     },
     "execution_count": 36,
     "metadata": {},
     "output_type": "execute_result"
    }
   ],
   "source": [
    "my_circle.pi"
   ]
  },
  {
   "cell_type": "code",
   "execution_count": 37,
   "id": "af6738e7",
   "metadata": {},
   "outputs": [
    {
     "data": {
      "text/plain": [
       "5652.0"
      ]
     },
     "execution_count": 37,
     "metadata": {},
     "output_type": "execute_result"
    }
   ],
   "source": [
    "my_circle.area"
   ]
  },
  {
   "cell_type": "markdown",
   "id": "47ddf789",
   "metadata": {},
   "source": [
    "## Inheritance and Polymorphism \n",
    "\n",
    "* <mark>Inheritance: </mark> is a mechanism in which one class acquires the property of another class. For example, a child inherits the traits of his/her parents. With inheritance, we can reuse the fields and methods of the existing class. Hence, inheritance facilitates Reusability and is an important concept of OOPs.\n",
    "* <mark>Polymorphism: </mark> the word polymorphism means having many forms. In programming, polymorphism means the same function name (but different signatures) being used for different types."
   ]
  },
  {
   "cell_type": "code",
   "execution_count": 40,
   "id": "87c897d2",
   "metadata": {},
   "outputs": [],
   "source": [
    "# Base class\n",
    "\n",
    "class Animal():\n",
    "    \n",
    "    def __init__(self):\n",
    "        print('ANIMAL CREATED')\n",
    "        \n",
    "    def who_am_i(self):\n",
    "        print ('I am an animal')\n",
    "        \n",
    "    def eat(self):\n",
    "        print('I am eating')"
   ]
  },
  {
   "cell_type": "code",
   "execution_count": 41,
   "id": "6211752b",
   "metadata": {},
   "outputs": [
    {
     "name": "stdout",
     "output_type": "stream",
     "text": [
      "ANIMAL CREATED\n"
     ]
    }
   ],
   "source": [
    "myAnimal = Animal ()"
   ]
  },
  {
   "cell_type": "code",
   "execution_count": 42,
   "id": "7dee64c3",
   "metadata": {},
   "outputs": [
    {
     "name": "stdout",
     "output_type": "stream",
     "text": [
      "I am an animal\n"
     ]
    }
   ],
   "source": [
    "myAnimal.who_am_i()"
   ]
  },
  {
   "cell_type": "code",
   "execution_count": 43,
   "id": "b774cc94",
   "metadata": {},
   "outputs": [
    {
     "name": "stdout",
     "output_type": "stream",
     "text": [
      "I am eating\n"
     ]
    }
   ],
   "source": [
    "myAnimal.eat()"
   ]
  },
  {
   "cell_type": "code",
   "execution_count": 57,
   "id": "9baa66c2",
   "metadata": {},
   "outputs": [],
   "source": [
    "# Derive class\n",
    "class Dog(Animal):\n",
    "    \n",
    "    def __init__(self):\n",
    "        # Creating an instance of the Animal class\n",
    "        Animal.__init__(self)\n",
    "        print (\"DOG CREATED!\")\n",
    "        \n",
    "        # Overriding an existing method\n",
    "        def who_am_i(self):\n",
    "            print(\"I am a dog!\")\n",
    "            \n",
    "        # You are also allow to add on methods\n",
    "        def bark(self):\n",
    "            print (\"WOOF!\")"
   ]
  },
  {
   "cell_type": "code",
   "execution_count": 49,
   "id": "d52a6c86",
   "metadata": {},
   "outputs": [
    {
     "name": "stdout",
     "output_type": "stream",
     "text": [
      "ANIMAL CREATED\n",
      "DOG CREATED!\n"
     ]
    }
   ],
   "source": [
    "my_dog = Dog()"
   ]
  },
  {
   "cell_type": "code",
   "execution_count": 58,
   "id": "fce5e0b1",
   "metadata": {},
   "outputs": [
    {
     "name": "stdout",
     "output_type": "stream",
     "text": [
      "I am eating\n"
     ]
    }
   ],
   "source": [
    "my_dog.eat()"
   ]
  },
  {
   "cell_type": "code",
   "execution_count": 60,
   "id": "a7082f48",
   "metadata": {},
   "outputs": [
    {
     "name": "stdout",
     "output_type": "stream",
     "text": [
      "I am an animal\n"
     ]
    }
   ],
   "source": [
    "my_dog.who_am_i()"
   ]
  },
  {
   "cell_type": "code",
   "execution_count": 64,
   "id": "b5271bc5",
   "metadata": {},
   "outputs": [
    {
     "ename": "AttributeError",
     "evalue": "'Dog' object has no attribute 'speak'",
     "output_type": "error",
     "traceback": [
      "\u001b[0;31m---------------------------------------------------------------------------\u001b[0m",
      "\u001b[0;31mAttributeError\u001b[0m                            Traceback (most recent call last)",
      "Input \u001b[0;32mIn [64]\u001b[0m, in \u001b[0;36m<cell line: 21>\u001b[0;34m()\u001b[0m\n\u001b[1;32m     18\u001b[0m niko \u001b[38;5;241m=\u001b[39m Dog (\u001b[38;5;124m'\u001b[39m\u001b[38;5;124mNiko\u001b[39m\u001b[38;5;124m'\u001b[39m)\n\u001b[1;32m     19\u001b[0m felix \u001b[38;5;241m=\u001b[39m Cat (\u001b[38;5;124m'\u001b[39m\u001b[38;5;124mFelix\u001b[39m\u001b[38;5;124m'\u001b[39m)\n\u001b[0;32m---> 21\u001b[0m \u001b[38;5;28mprint\u001b[39m (\u001b[43mniko\u001b[49m\u001b[38;5;241;43m.\u001b[39;49m\u001b[43mspeak\u001b[49m())\n\u001b[1;32m     22\u001b[0m \u001b[38;5;28mprint\u001b[39m (felix\u001b[38;5;241m.\u001b[39mspeak())\n",
      "\u001b[0;31mAttributeError\u001b[0m: 'Dog' object has no attribute 'speak'"
     ]
    }
   ],
   "source": [
    "# Polymorphism\n",
    "\n",
    "class Dog:\n",
    "    def __init__(self, name):\n",
    "        self.name = name\n",
    "        \n",
    "        def speak(self):\n",
    "            return self.name + 'says Woof!'\n",
    "        \n",
    "class Cat:\n",
    "    def __init__(self, name):\n",
    "        self.name = name\n",
    "        \n",
    "    def speak(self):\n",
    "        return self.name + ' says Meow!'\n",
    " \n",
    "\n",
    "niko = Dog ('Niko')\n",
    "felix = Cat ('Felix')\n",
    "\n",
    "print (niko.speak())\n",
    "print (felix.speak())"
   ]
  },
  {
   "cell_type": "code",
   "execution_count": 66,
   "id": "4f2571c8",
   "metadata": {},
   "outputs": [
    {
     "ename": "AttributeError",
     "evalue": "'Dog' object has no attribute 'speak'",
     "output_type": "error",
     "traceback": [
      "\u001b[0;31m---------------------------------------------------------------------------\u001b[0m",
      "\u001b[0;31mAttributeError\u001b[0m                            Traceback (most recent call last)",
      "Input \u001b[0;32mIn [66]\u001b[0m, in \u001b[0;36m<cell line: 3>\u001b[0;34m()\u001b[0m\n\u001b[1;32m      1\u001b[0m \u001b[38;5;66;03m# Polymosphism with a loop\u001b[39;00m\n\u001b[1;32m      3\u001b[0m \u001b[38;5;28;01mfor\u001b[39;00m pet \u001b[38;5;129;01min\u001b[39;00m [niko, felix]:\n\u001b[0;32m----> 4\u001b[0m     \u001b[38;5;28mprint\u001b[39m (\u001b[43mpet\u001b[49m\u001b[38;5;241;43m.\u001b[39;49m\u001b[43mspeak\u001b[49m())\n\u001b[1;32m      6\u001b[0m pet_speak(niko)\n\u001b[1;32m      7\u001b[0m pet_speak(felix)\n",
      "\u001b[0;31mAttributeError\u001b[0m: 'Dog' object has no attribute 'speak'"
     ]
    }
   ],
   "source": [
    "# Polymosphism with a loop\n",
    "\n",
    "for pet in [niko, felix]:\n",
    "    print (pet.speak())\n",
    "    \n",
    "pet_speak(niko)\n",
    "pet_speak(felix)"
   ]
  },
  {
   "cell_type": "markdown",
   "id": "dab72cdf",
   "metadata": {},
   "source": [
    "A more common practice is to use abstract classes and inheritance. An abstract class is one that never expects to be instantiated. For example, we will never have an Animal object, only Dog and Cat objects, although Dogs and Cats are derived from Animals:"
   ]
  },
  {
   "cell_type": "code",
   "execution_count": null,
   "id": "c1755d74",
   "metadata": {},
   "outputs": [],
   "source": []
  }
 ],
 "metadata": {
  "kernelspec": {
   "display_name": "Python 3 (ipykernel)",
   "language": "python",
   "name": "python3"
  },
  "language_info": {
   "codemirror_mode": {
    "name": "ipython",
    "version": 3
   },
   "file_extension": ".py",
   "mimetype": "text/x-python",
   "name": "python",
   "nbconvert_exporter": "python",
   "pygments_lexer": "ipython3",
   "version": "3.9.12"
  }
 },
 "nbformat": 4,
 "nbformat_minor": 5
}
