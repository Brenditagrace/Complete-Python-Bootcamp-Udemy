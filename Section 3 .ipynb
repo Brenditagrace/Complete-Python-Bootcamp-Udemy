{
 "cells": [
  {
   "cell_type": "markdown",
   "id": "afdacfe1",
   "metadata": {},
   "source": [
    "Section 3: Object and Data Structures Basics\n",
    "\n",
    "- e.i. Strings, floats, bools"
   ]
  },
  {
   "cell_type": "code",
   "execution_count": 6,
   "id": "bde14bd9",
   "metadata": {},
   "outputs": [],
   "source": [
    "a = 5 "
   ]
  },
  {
   "cell_type": "code",
   "execution_count": 7,
   "id": "ac3020f6",
   "metadata": {},
   "outputs": [],
   "source": [
    "a = 10"
   ]
  },
  {
   "cell_type": "code",
   "execution_count": 9,
   "id": "1762b897",
   "metadata": {},
   "outputs": [],
   "source": [
    "a = a + a"
   ]
  },
  {
   "cell_type": "code",
   "execution_count": 8,
   "id": "279c0bc2",
   "metadata": {},
   "outputs": [],
   "source": [
    "myIncome = 200\n",
    "taxRate = 0.1\n",
    "\n",
    "myTaxes = myIncome + taxRate\n",
    "\n"
   ]
  },
  {
   "cell_type": "code",
   "execution_count": 3,
   "id": "e693ee11",
   "metadata": {},
   "outputs": [
    {
     "data": {
      "text/plain": [
       "'hello there'"
      ]
     },
     "execution_count": 3,
     "metadata": {},
     "output_type": "execute_result"
    }
   ],
   "source": [
    "'hello there'"
   ]
  },
  {
   "cell_type": "code",
   "execution_count": 4,
   "id": "fcc1d26c",
   "metadata": {},
   "outputs": [
    {
     "data": {
      "text/plain": [
       "'how are you'"
      ]
     },
     "execution_count": 4,
     "metadata": {},
     "output_type": "execute_result"
    }
   ],
   "source": [
    "\"how are you\""
   ]
  },
  {
   "cell_type": "code",
   "execution_count": 5,
   "id": "d64e506c",
   "metadata": {},
   "outputs": [
    {
     "data": {
      "text/plain": [
       "\"I'm okay\""
      ]
     },
     "execution_count": 5,
     "metadata": {},
     "output_type": "execute_result"
    }
   ],
   "source": [
    "\"I'm okay\""
   ]
  },
  {
   "cell_type": "code",
   "execution_count": 12,
   "id": "bc0c495c",
   "metadata": {},
   "outputs": [
    {
     "name": "stdout",
     "output_type": "stream",
     "text": [
      "Yummy \n",
      "Yummiest\n"
     ]
    }
   ],
   "source": [
    "print ('Yummy \\nYummiest')"
   ]
  },
  {
   "cell_type": "code",
   "execution_count": 1,
   "id": "aab23fa6",
   "metadata": {},
   "outputs": [
    {
     "data": {
      "text/plain": [
       "5"
      ]
     },
     "execution_count": 1,
     "metadata": {},
     "output_type": "execute_result"
    }
   ],
   "source": [
    "len ('I am ')"
   ]
  },
  {
   "cell_type": "code",
   "execution_count": 2,
   "id": "88b1b581",
   "metadata": {},
   "outputs": [
    {
     "name": "stdout",
     "output_type": "stream",
     "text": [
      "Yumm /tYummers\n"
     ]
    }
   ],
   "source": [
    "print ('Yumm /tYummers')"
   ]
  },
  {
   "cell_type": "code",
   "execution_count": 3,
   "id": "fc163efc",
   "metadata": {},
   "outputs": [],
   "source": [
    "myString = \"Yellow, what is your name?\""
   ]
  },
  {
   "cell_type": "code",
   "execution_count": 4,
   "id": "b31b0f3b",
   "metadata": {},
   "outputs": [
    {
     "data": {
      "text/plain": [
       "'Yellow, what is your name?'"
      ]
     },
     "execution_count": 4,
     "metadata": {},
     "output_type": "execute_result"
    }
   ],
   "source": [
    "myString"
   ]
  },
  {
   "cell_type": "code",
   "execution_count": 5,
   "id": "d47d5320",
   "metadata": {},
   "outputs": [
    {
     "data": {
      "text/plain": [
       "'w'"
      ]
     },
     "execution_count": 5,
     "metadata": {},
     "output_type": "execute_result"
    }
   ],
   "source": [
    "myString[5]"
   ]
  },
  {
   "cell_type": "code",
   "execution_count": 6,
   "id": "d945f8a1",
   "metadata": {},
   "outputs": [
    {
     "data": {
      "text/plain": [
       "'a'"
      ]
     },
     "execution_count": 6,
     "metadata": {},
     "output_type": "execute_result"
    }
   ],
   "source": [
    "myString[10]"
   ]
  },
  {
   "cell_type": "code",
   "execution_count": 7,
   "id": "5c55ba7c",
   "metadata": {},
   "outputs": [
    {
     "data": {
      "text/plain": [
       "'m'"
      ]
     },
     "execution_count": 7,
     "metadata": {},
     "output_type": "execute_result"
    }
   ],
   "source": [
    "myString [-3]"
   ]
  },
  {
   "cell_type": "markdown",
   "id": "3cdf95e4",
   "metadata": {},
   "source": [
    "<b>Slicing</b> is a sub-section on a string"
   ]
  },
  {
   "cell_type": "code",
   "execution_count": 8,
   "id": "424707dd",
   "metadata": {},
   "outputs": [
    {
     "data": {
      "text/plain": [
       "'Yellow, what is your name?'"
      ]
     },
     "execution_count": 8,
     "metadata": {},
     "output_type": "execute_result"
    }
   ],
   "source": [
    "myString "
   ]
  },
  {
   "cell_type": "code",
   "execution_count": 9,
   "id": "e22d0f5d",
   "metadata": {},
   "outputs": [],
   "source": [
    "myString = 'abcdefghijk'"
   ]
  },
  {
   "cell_type": "code",
   "execution_count": 10,
   "id": "62380172",
   "metadata": {},
   "outputs": [
    {
     "data": {
      "text/plain": [
       "'abcdefghijk'"
      ]
     },
     "execution_count": 10,
     "metadata": {},
     "output_type": "execute_result"
    }
   ],
   "source": [
    "myString"
   ]
  },
  {
   "cell_type": "code",
   "execution_count": 11,
   "id": "05813e09",
   "metadata": {},
   "outputs": [
    {
     "data": {
      "text/plain": [
       "'d'"
      ]
     },
     "execution_count": 11,
     "metadata": {},
     "output_type": "execute_result"
    }
   ],
   "source": [
    "myString[3]"
   ]
  },
  {
   "cell_type": "code",
   "execution_count": 12,
   "id": "36f56c04",
   "metadata": {},
   "outputs": [
    {
     "data": {
      "text/plain": [
       "'defghijk'"
      ]
     },
     "execution_count": 12,
     "metadata": {},
     "output_type": "execute_result"
    }
   ],
   "source": [
    "myString[3:]"
   ]
  },
  {
   "cell_type": "code",
   "execution_count": 13,
   "id": "d6c5db3d",
   "metadata": {},
   "outputs": [
    {
     "data": {
      "text/plain": [
       "'abc'"
      ]
     },
     "execution_count": 13,
     "metadata": {},
     "output_type": "execute_result"
    }
   ],
   "source": [
    "myString[:3]"
   ]
  },
  {
   "cell_type": "code",
   "execution_count": 15,
   "id": "f62faf13",
   "metadata": {},
   "outputs": [
    {
     "data": {
      "text/plain": [
       "'def'"
      ]
     },
     "execution_count": 15,
     "metadata": {},
     "output_type": "execute_result"
    }
   ],
   "source": [
    "myString [3:6]"
   ]
  },
  {
   "cell_type": "code",
   "execution_count": 16,
   "id": "9746213c",
   "metadata": {},
   "outputs": [
    {
     "data": {
      "text/plain": [
       "'bc'"
      ]
     },
     "execution_count": 16,
     "metadata": {},
     "output_type": "execute_result"
    }
   ],
   "source": [
    "myString[1:3]"
   ]
  },
  {
   "cell_type": "code",
   "execution_count": 17,
   "id": "6bc2a3bf",
   "metadata": {},
   "outputs": [
    {
     "data": {
      "text/plain": [
       "'efg'"
      ]
     },
     "execution_count": 17,
     "metadata": {},
     "output_type": "execute_result"
    }
   ],
   "source": [
    "myString [4:7]"
   ]
  },
  {
   "cell_type": "markdown",
   "id": "927c3c25",
   "metadata": {},
   "source": [
    "Step side in slicng works and is anototed liek this <b>[::]</b>. When adding a number in front of it it means it from e.i 1 and jumps/ counts in 3's. See code below. Another step side example you can do is my String [2:7:3], which can be use a method to reverse a string."
   ]
  },
  {
   "cell_type": "markdown",
   "id": "409287db",
   "metadata": {},
   "source": [
    "myString [1::3]"
   ]
  },
  {
   "cell_type": "markdown",
   "id": "55e07c09",
   "metadata": {},
   "source": [
    "To <b>reverse a string</b> EX: myString [::-1]"
   ]
  },
  {
   "cell_type": "markdown",
   "id": "43704101",
   "metadata": {},
   "source": [
    "<h2><b>Immutability</h2></b> String contactination "
   ]
  },
  {
   "cell_type": "code",
   "execution_count": 20,
   "id": "615de576",
   "metadata": {},
   "outputs": [],
   "source": [
    "name = \"Sam\""
   ]
  },
  {
   "cell_type": "code",
   "execution_count": 21,
   "id": "44118180",
   "metadata": {},
   "outputs": [],
   "source": [
    "# name[0] = 'P'"
   ]
  },
  {
   "cell_type": "code",
   "execution_count": 24,
   "id": "ffccfa1f",
   "metadata": {},
   "outputs": [],
   "source": [
    "lastLetter = name[1:]"
   ]
  },
  {
   "cell_type": "code",
   "execution_count": 25,
   "id": "17f82e3f",
   "metadata": {},
   "outputs": [
    {
     "data": {
      "text/plain": [
       "'Pam'"
      ]
     },
     "execution_count": 25,
     "metadata": {},
     "output_type": "execute_result"
    }
   ],
   "source": [
    "\"P\" + lastLetter"
   ]
  },
  {
   "cell_type": "code",
   "execution_count": 34,
   "id": "8ba1fc19",
   "metadata": {},
   "outputs": [],
   "source": [
    "x = 'Hello world! '"
   ]
  },
  {
   "cell_type": "code",
   "execution_count": 33,
   "id": "68621dca",
   "metadata": {},
   "outputs": [
    {
     "data": {
      "text/plain": [
       "'Hello world!it is beautiful outside!'"
      ]
     },
     "execution_count": 33,
     "metadata": {},
     "output_type": "execute_result"
    }
   ],
   "source": [
    "x = x + \"it is beautiful outside!\""
   ]
  },
  {
   "cell_type": "code",
   "execution_count": 35,
   "id": "98cd691b",
   "metadata": {},
   "outputs": [],
   "source": [
    "letter = 'z'"
   ]
  },
  {
   "cell_type": "raw",
   "id": "0da8d5f9",
   "metadata": {},
   "source": [
    "letter * 10"
   ]
  },
  {
   "cell_type": "markdown",
   "id": "64aa30cb",
   "metadata": {},
   "source": [
    "<h2><b>Methods</h2></b> in Python"
   ]
  },
  {
   "cell_type": "code",
   "execution_count": 37,
   "id": "7b56b0bc",
   "metadata": {},
   "outputs": [],
   "source": [
    "x = 'Hello World'"
   ]
  },
  {
   "cell_type": "code",
   "execution_count": 38,
   "id": "c334b8a4",
   "metadata": {},
   "outputs": [
    {
     "data": {
      "text/plain": [
       "'HELLO WORLD'"
      ]
     },
     "execution_count": 38,
     "metadata": {},
     "output_type": "execute_result"
    }
   ],
   "source": [
    "x.upper()"
   ]
  },
  {
   "cell_type": "code",
   "execution_count": 39,
   "id": "87b4752b",
   "metadata": {},
   "outputs": [
    {
     "data": {
      "text/plain": [
       "'hello world'"
      ]
     },
     "execution_count": 39,
     "metadata": {},
     "output_type": "execute_result"
    }
   ],
   "source": [
    "x.lower()"
   ]
  },
  {
   "cell_type": "code",
   "execution_count": 40,
   "id": "64fbd553",
   "metadata": {},
   "outputs": [
    {
     "data": {
      "text/plain": [
       "['Hello', 'World']"
      ]
     },
     "execution_count": 40,
     "metadata": {},
     "output_type": "execute_result"
    }
   ],
   "source": [
    "x.split()"
   ]
  },
  {
   "cell_type": "code",
   "execution_count": 41,
   "id": "acfb01ba",
   "metadata": {},
   "outputs": [],
   "source": [
    "x = 'Hi this is string'"
   ]
  },
  {
   "cell_type": "code",
   "execution_count": 42,
   "id": "ab178831",
   "metadata": {},
   "outputs": [
    {
     "data": {
      "text/plain": [
       "['Hi', 'this', 'is', 'string']"
      ]
     },
     "execution_count": 42,
     "metadata": {},
     "output_type": "execute_result"
    }
   ],
   "source": [
    "x.split()"
   ]
  },
  {
   "cell_type": "code",
   "execution_count": 44,
   "id": "779b77bc",
   "metadata": {},
   "outputs": [
    {
     "data": {
      "text/plain": [
       "['H', ' th', 's ', 's str', 'ng']"
      ]
     },
     "execution_count": 44,
     "metadata": {},
     "output_type": "execute_result"
    }
   ],
   "source": [
    "x.split('i')"
   ]
  },
  {
   "cell_type": "markdown",
   "id": "0c62e6b5",
   "metadata": {},
   "source": [
    "<h2><b>Print Formatting with Strings</h2></b> \n",
    "A way to format onjects into your string for print statement with the <b>string.format()</b>"
   ]
  },
  {
   "cell_type": "code",
   "execution_count": 3,
   "id": "9260303d",
   "metadata": {},
   "outputs": [
    {
     "name": "stdout",
     "output_type": "stream",
     "text": [
      "this is a string INSERTED\n"
     ]
    }
   ],
   "source": [
    "print ('this is a string {}'.format('INSERTED'))"
   ]
  },
  {
   "cell_type": "markdown",
   "id": "7287a02c",
   "metadata": {},
   "source": [
    "You can use the <b>.format</b> method to index. See below"
   ]
  },
  {
   "cell_type": "code",
   "execution_count": 5,
   "id": "edb6436a",
   "metadata": {},
   "outputs": [
    {
     "name": "stdout",
     "output_type": "stream",
     "text": [
      "The quick brown fox\n"
     ]
    }
   ],
   "source": [
    "print ('The {2} {1} {0}'.format('fox', 'brown', 'quick'))"
   ]
  },
  {
   "cell_type": "code",
   "execution_count": 8,
   "id": "5cf1dea4",
   "metadata": {},
   "outputs": [
    {
     "name": "stdout",
     "output_type": "stream",
     "text": [
      "The fox fox fox\n"
     ]
    }
   ],
   "source": [
    "# We can also repeat the index\n",
    "\n",
    "print ('The {0} {0} {0}'.format('fox', 'brown', 'quick'))"
   ]
  },
  {
   "cell_type": "code",
   "execution_count": 11,
   "id": "29c71357",
   "metadata": {},
   "outputs": [
    {
     "name": "stdout",
     "output_type": "stream",
     "text": [
      "The quick brown fox\n"
     ]
    }
   ],
   "source": [
    "# We can also assigned keywords\n",
    "\n",
    "print ('The {q} {b} {f}'.format(f = 'fox', b = 'brown', q = 'quick'))"
   ]
  },
  {
   "cell_type": "markdown",
   "id": "f6719da6",
   "metadata": {},
   "source": [
    "<b>FLOAT</b> foramting allows you to adjust the width and precision of your float point number."
   ]
  },
  {
   "cell_type": "code",
   "execution_count": 12,
   "id": "ebf6af78",
   "metadata": {},
   "outputs": [],
   "source": [
    "result = 100/777"
   ]
  },
  {
   "cell_type": "code",
   "execution_count": 13,
   "id": "0c9d221e",
   "metadata": {},
   "outputs": [
    {
     "data": {
      "text/plain": [
       "0.1287001287001287"
      ]
     },
     "execution_count": 13,
     "metadata": {},
     "output_type": "execute_result"
    }
   ],
   "source": [
    "result"
   ]
  },
  {
   "cell_type": "code",
   "execution_count": 19,
   "id": "326275c9",
   "metadata": {},
   "outputs": [
    {
     "name": "stdout",
     "output_type": "stream",
     "text": [
      "The result was 0.129\n"
     ]
    }
   ],
   "source": [
    "# Float formatting follows \"{value:width.precisionf}\"\n",
    "\n",
    "print (\"The result was {r:1.3f}\".format(r = result))"
   ]
  },
  {
   "cell_type": "code",
   "execution_count": 22,
   "id": "89d05243",
   "metadata": {},
   "outputs": [
    {
     "name": "stdout",
     "output_type": "stream",
     "text": [
      "Hello, her name is Grace\n"
     ]
    }
   ],
   "source": [
    "# Another way to print in \"f\" format \n",
    "\n",
    "name = \"Grace\"\n",
    "\n",
    "print (f'Hello, her name is {name}')"
   ]
  },
  {
   "cell_type": "code",
   "execution_count": 23,
   "id": "850a31bf",
   "metadata": {},
   "outputs": [
    {
     "name": "stdout",
     "output_type": "stream",
     "text": [
      "Jerry is 5 years old.\n"
     ]
    }
   ],
   "source": [
    "# \"f\" works with multiple variables. Thi is very quick way to do string interpolation which is just injecting\n",
    "\n",
    "name = 'Jerry'\n",
    "age = 5\n",
    "\n",
    "print (f'{name} is {age} years old.')"
   ]
  },
  {
   "cell_type": "markdown",
   "id": "9e7246f4",
   "metadata": {},
   "source": [
    "<h2><b>Lists in Python</h2></b>"
   ]
  },
  {
   "cell_type": "code",
   "execution_count": 2,
   "id": "c74022a4",
   "metadata": {},
   "outputs": [],
   "source": [
    "myList = [1, 2, 3]"
   ]
  },
  {
   "cell_type": "code",
   "execution_count": 3,
   "id": "bb49b0be",
   "metadata": {},
   "outputs": [],
   "source": [
    "myList = ['STRING', 100, 23.2]"
   ]
  },
  {
   "cell_type": "code",
   "execution_count": 4,
   "id": "a3f9d031",
   "metadata": {},
   "outputs": [
    {
     "data": {
      "text/plain": [
       "3"
      ]
     },
     "execution_count": 4,
     "metadata": {},
     "output_type": "execute_result"
    }
   ],
   "source": [
    "len(myList)"
   ]
  },
  {
   "cell_type": "code",
   "execution_count": 5,
   "id": "6d1e4511",
   "metadata": {},
   "outputs": [],
   "source": [
    "mylist = [\"one\", \"two\", \"three\"]"
   ]
  },
  {
   "cell_type": "code",
   "execution_count": 6,
   "id": "2452cf51",
   "metadata": {},
   "outputs": [
    {
     "data": {
      "text/plain": [
       "['one', 'two', 'three']"
      ]
     },
     "execution_count": 6,
     "metadata": {},
     "output_type": "execute_result"
    }
   ],
   "source": [
    "mylist"
   ]
  },
  {
   "cell_type": "code",
   "execution_count": 7,
   "id": "716f71b3",
   "metadata": {},
   "outputs": [],
   "source": [
    "anotherList = [\"four\", \"five\"]"
   ]
  },
  {
   "cell_type": "code",
   "execution_count": 8,
   "id": "f5d4a75d",
   "metadata": {},
   "outputs": [
    {
     "data": {
      "text/plain": [
       "['one', 'two', 'three', 'four', 'five']"
      ]
     },
     "execution_count": 8,
     "metadata": {},
     "output_type": "execute_result"
    }
   ],
   "source": [
    "mylist + anotherList"
   ]
  },
  {
   "cell_type": "code",
   "execution_count": 10,
   "id": "7b804e4b",
   "metadata": {},
   "outputs": [],
   "source": [
    "newList = mylist + anotherList"
   ]
  },
  {
   "cell_type": "code",
   "execution_count": 11,
   "id": "e08df446",
   "metadata": {},
   "outputs": [
    {
     "data": {
      "text/plain": [
       "['one', 'two', 'three', 'four', 'five']"
      ]
     },
     "execution_count": 11,
     "metadata": {},
     "output_type": "execute_result"
    }
   ],
   "source": [
    "newList"
   ]
  },
  {
   "cell_type": "code",
   "execution_count": 23,
   "id": "6d020b3d",
   "metadata": {},
   "outputs": [],
   "source": [
    "# To mutate a list\n",
    "\n",
    "newList[0] = 'ONE ALL CAPS'\n",
    "\n",
    "# To append a List\n",
    "# Append allows you to add to a list \n",
    "\n",
    "newList.append('six')"
   ]
  },
  {
   "cell_type": "code",
   "execution_count": 22,
   "id": "a572bfd7",
   "metadata": {},
   "outputs": [
    {
     "data": {
      "text/plain": [
       "['ONE ALL CAPS', 'two', 'three', 'four', 'five', 'six', 'six']"
      ]
     },
     "execution_count": 22,
     "metadata": {},
     "output_type": "execute_result"
    }
   ],
   "source": [
    "newList"
   ]
  },
  {
   "cell_type": "code",
   "execution_count": 25,
   "id": "51cd494d",
   "metadata": {},
   "outputs": [
    {
     "data": {
      "text/plain": [
       "'six'"
      ]
     },
     "execution_count": 25,
     "metadata": {},
     "output_type": "execute_result"
    }
   ],
   "source": [
    "# Pop method\n",
    "\n",
    "newList.pop()\n"
   ]
  },
  {
   "cell_type": "code",
   "execution_count": 26,
   "id": "fac51d42",
   "metadata": {},
   "outputs": [
    {
     "data": {
      "text/plain": [
       "['ONE ALL CAPS', 'two', 'three', 'four', 'five', 'six', 'six']"
      ]
     },
     "execution_count": 26,
     "metadata": {},
     "output_type": "execute_result"
    }
   ],
   "source": [
    "newList"
   ]
  },
  {
   "cell_type": "code",
   "execution_count": 27,
   "id": "83504eb4",
   "metadata": {},
   "outputs": [],
   "source": [
    "poppedItem = newList.pop()"
   ]
  },
  {
   "cell_type": "code",
   "execution_count": 28,
   "id": "fa8ef2bc",
   "metadata": {},
   "outputs": [
    {
     "data": {
      "text/plain": [
       "'six'"
      ]
     },
     "execution_count": 28,
     "metadata": {},
     "output_type": "execute_result"
    }
   ],
   "source": [
    "poppedItem"
   ]
  },
  {
   "cell_type": "code",
   "execution_count": 29,
   "id": "1867bcf8",
   "metadata": {},
   "outputs": [
    {
     "data": {
      "text/plain": [
       "'ONE ALL CAPS'"
      ]
     },
     "execution_count": 29,
     "metadata": {},
     "output_type": "execute_result"
    }
   ],
   "source": [
    "newList.pop(0)"
   ]
  },
  {
   "cell_type": "code",
   "execution_count": 30,
   "id": "4dd88d2f",
   "metadata": {},
   "outputs": [
    {
     "data": {
      "text/plain": [
       "['two', 'three', 'four', 'five', 'six']"
      ]
     },
     "execution_count": 30,
     "metadata": {},
     "output_type": "execute_result"
    }
   ],
   "source": [
    "newList"
   ]
  },
  {
   "cell_type": "code",
   "execution_count": 35,
   "id": "e1b18113",
   "metadata": {},
   "outputs": [],
   "source": [
    "newList = ['a', 'e', 'x', 'b', 'c']\n",
    "numList = [4, 1, 8, 3]"
   ]
  },
  {
   "cell_type": "code",
   "execution_count": 32,
   "id": "e07caa34",
   "metadata": {},
   "outputs": [],
   "source": [
    "newList.sort()"
   ]
  },
  {
   "cell_type": "code",
   "execution_count": 33,
   "id": "6ef12269",
   "metadata": {},
   "outputs": [
    {
     "data": {
      "text/plain": [
       "['a', 'b', 'c', 'e', 'x']"
      ]
     },
     "execution_count": 33,
     "metadata": {},
     "output_type": "execute_result"
    }
   ],
   "source": [
    "newList"
   ]
  },
  {
   "cell_type": "code",
   "execution_count": 36,
   "id": "6d1b0204",
   "metadata": {},
   "outputs": [
    {
     "data": {
      "text/plain": [
       "[4, 1, 8, 3]"
      ]
     },
     "execution_count": 36,
     "metadata": {},
     "output_type": "execute_result"
    }
   ],
   "source": [
    "numList"
   ]
  },
  {
   "cell_type": "code",
   "execution_count": 38,
   "id": "f869cf48",
   "metadata": {},
   "outputs": [],
   "source": [
    "numList.sort()"
   ]
  },
  {
   "cell_type": "markdown",
   "id": "31655727",
   "metadata": {},
   "source": [
    "<h2><b>Dictionaries in Python</h2></b>\n",
    "\n",
    "Dictionaries are mapping and no not retain order.\n",
    "\n",
    "When to choose a dictionary or a list:\n",
    "<b>Dictionaries:</b> Objets retrieved by key name\n",
    "\n",
    "Unordered and can not be sorted.\n",
    "When to use? When you want to quickly retrieve a value without needing to know its exact index location.\n",
    "<b>Lists:</b> Objects retrieve by location.\n",
    "\n",
    "Ordered Sequence can be indexed or sliced. \n",
    "When to use? List can retrieve object by location. It allows the actual list to be indexed, sliced and then sorted."
   ]
  },
  {
   "cell_type": "code",
   "execution_count": 3,
   "id": "20b50935",
   "metadata": {},
   "outputs": [],
   "source": [
    "myDict = {'key1':'value1', 'key2':'value2'}"
   ]
  },
  {
   "cell_type": "code",
   "execution_count": 4,
   "id": "a7480cbb",
   "metadata": {},
   "outputs": [
    {
     "data": {
      "text/plain": [
       "{'key1': 'value1', 'key2': 'value2'}"
      ]
     },
     "execution_count": 4,
     "metadata": {},
     "output_type": "execute_result"
    }
   ],
   "source": [
    "myDict "
   ]
  },
  {
   "cell_type": "code",
   "execution_count": 5,
   "id": "05d4242f",
   "metadata": {},
   "outputs": [
    {
     "data": {
      "text/plain": [
       "'value1'"
      ]
     },
     "execution_count": 5,
     "metadata": {},
     "output_type": "execute_result"
    }
   ],
   "source": [
    "myDict['key1']"
   ]
  },
  {
   "cell_type": "code",
   "execution_count": 7,
   "id": "afda9a4e",
   "metadata": {},
   "outputs": [],
   "source": [
    "# Key value pairs examples\n",
    "\n",
    "prices_lookup = {'apple':2.99, 'oranges':1.99, 'milk':5.99}"
   ]
  },
  {
   "cell_type": "code",
   "execution_count": 8,
   "id": "d4578917",
   "metadata": {},
   "outputs": [
    {
     "data": {
      "text/plain": [
       "2.99"
      ]
     },
     "execution_count": 8,
     "metadata": {},
     "output_type": "execute_result"
    }
   ],
   "source": [
    "prices_lookup['apple']"
   ]
  },
  {
   "cell_type": "code",
   "execution_count": 12,
   "id": "f5e20c2a",
   "metadata": {},
   "outputs": [],
   "source": [
    "d = {'K1':123, 'k2':[0,1,2], 'k3':{'insideKey':100}}"
   ]
  },
  {
   "cell_type": "code",
   "execution_count": 13,
   "id": "4c6107c2",
   "metadata": {},
   "outputs": [
    {
     "data": {
      "text/plain": [
       "[0, 1, 2]"
      ]
     },
     "execution_count": 13,
     "metadata": {},
     "output_type": "execute_result"
    }
   ],
   "source": [
    "d['k2']"
   ]
  },
  {
   "cell_type": "code",
   "execution_count": 15,
   "id": "a1b37b76",
   "metadata": {},
   "outputs": [
    {
     "data": {
      "text/plain": [
       "100"
      ]
     },
     "execution_count": 15,
     "metadata": {},
     "output_type": "execute_result"
    }
   ],
   "source": [
    "# Stacking index calls or key calls to back values you want \n",
    "\n",
    "d['k3']['insideKey']"
   ]
  },
  {
   "cell_type": "code",
   "execution_count": 16,
   "id": "ae6e271e",
   "metadata": {},
   "outputs": [],
   "source": [
    "d = {'key1':['a', 'b', 'c']}"
   ]
  },
  {
   "cell_type": "code",
   "execution_count": 17,
   "id": "ace1caa6",
   "metadata": {},
   "outputs": [],
   "source": [
    "mylist = d['key1']"
   ]
  },
  {
   "cell_type": "code",
   "execution_count": 18,
   "id": "edd1016e",
   "metadata": {},
   "outputs": [
    {
     "data": {
      "text/plain": [
       "['a', 'b', 'c']"
      ]
     },
     "execution_count": 18,
     "metadata": {},
     "output_type": "execute_result"
    }
   ],
   "source": [
    "mylist"
   ]
  },
  {
   "cell_type": "code",
   "execution_count": 22,
   "id": "1ab7d228",
   "metadata": {},
   "outputs": [],
   "source": [
    "letter = mylist[2]"
   ]
  },
  {
   "cell_type": "code",
   "execution_count": 23,
   "id": "b187ec0f",
   "metadata": {},
   "outputs": [
    {
     "data": {
      "text/plain": [
       "'c'"
      ]
     },
     "execution_count": 23,
     "metadata": {},
     "output_type": "execute_result"
    }
   ],
   "source": [
    "letter"
   ]
  },
  {
   "cell_type": "code",
   "execution_count": 24,
   "id": "098e3eed",
   "metadata": {},
   "outputs": [
    {
     "data": {
      "text/plain": [
       "'C'"
      ]
     },
     "execution_count": 24,
     "metadata": {},
     "output_type": "execute_result"
    }
   ],
   "source": [
    "letter.upper()"
   ]
  },
  {
   "cell_type": "code",
   "execution_count": 26,
   "id": "d800f14c",
   "metadata": {},
   "outputs": [],
   "source": [
    "# Adding a new key value pair to a dictionary \n",
    "\n",
    "d = {'k1':100, 'k2': 200}"
   ]
  },
  {
   "cell_type": "code",
   "execution_count": 27,
   "id": "adb4be33",
   "metadata": {},
   "outputs": [
    {
     "data": {
      "text/plain": [
       "{'k1': 100, 'k2': 200}"
      ]
     },
     "execution_count": 27,
     "metadata": {},
     "output_type": "execute_result"
    }
   ],
   "source": [
    "d"
   ]
  },
  {
   "cell_type": "code",
   "execution_count": 29,
   "id": "66439fa2",
   "metadata": {},
   "outputs": [],
   "source": [
    "d['k3'] = 300"
   ]
  },
  {
   "cell_type": "code",
   "execution_count": 30,
   "id": "1dd45d83",
   "metadata": {},
   "outputs": [
    {
     "data": {
      "text/plain": [
       "{'k1': 100, 'k2': 200, 'k3': 300}"
      ]
     },
     "execution_count": 30,
     "metadata": {},
     "output_type": "execute_result"
    }
   ],
   "source": [
    "d"
   ]
  },
  {
   "cell_type": "code",
   "execution_count": 33,
   "id": "cfa13b7a",
   "metadata": {},
   "outputs": [],
   "source": [
    "# To override an existing value\n",
    "\n",
    "d['k1'] = 'NEW VALUE'"
   ]
  },
  {
   "cell_type": "code",
   "execution_count": 34,
   "id": "e72f7a0b",
   "metadata": {},
   "outputs": [
    {
     "data": {
      "text/plain": [
       "{'k1': 'NEW VALUE', 'k2': 200, 'k3': 300}"
      ]
     },
     "execution_count": 34,
     "metadata": {},
     "output_type": "execute_result"
    }
   ],
   "source": [
    "d"
   ]
  },
  {
   "cell_type": "code",
   "execution_count": 35,
   "id": "806b90d0",
   "metadata": {},
   "outputs": [],
   "source": [
    "# Grabbing all keys from a dictionary \n",
    "\n",
    "d = {'k1': 100, 'k2': 200, 'k3': 300}"
   ]
  },
  {
   "cell_type": "code",
   "execution_count": 37,
   "id": "15a2a990",
   "metadata": {},
   "outputs": [
    {
     "data": {
      "text/plain": [
       "dict_keys(['k1', 'k2', 'k3'])"
      ]
     },
     "execution_count": 37,
     "metadata": {},
     "output_type": "execute_result"
    }
   ],
   "source": [
    "d.keys()"
   ]
  },
  {
   "cell_type": "code",
   "execution_count": 38,
   "id": "6d2d5862",
   "metadata": {},
   "outputs": [
    {
     "data": {
      "text/plain": [
       "dict_values([100, 200, 300])"
      ]
     },
     "execution_count": 38,
     "metadata": {},
     "output_type": "execute_result"
    }
   ],
   "source": [
    "# For the values\n",
    "\n",
    "d.values()"
   ]
  },
  {
   "cell_type": "code",
   "execution_count": 39,
   "id": "9f6bf4a5",
   "metadata": {},
   "outputs": [
    {
     "data": {
      "text/plain": [
       "dict_items([('k1', 100), ('k2', 200), ('k3', 300)])"
      ]
     },
     "execution_count": 39,
     "metadata": {},
     "output_type": "execute_result"
    }
   ],
   "source": [
    "# For all pairings together\n",
    "\n",
    "d.items()"
   ]
  },
  {
   "cell_type": "markdown",
   "id": "a8908761",
   "metadata": {},
   "source": [
    "<h2><b>Tuples with Python</h2></b>\n",
    "are very similar to Lists. However, they can not be immutated. Elements inside a Tuple cannot not be reassigned."
   ]
  },
  {
   "cell_type": "code",
   "execution_count": 1,
   "id": "5d5f3bdb",
   "metadata": {},
   "outputs": [],
   "source": [
    "t = (1, 2, 3)"
   ]
  },
  {
   "cell_type": "code",
   "execution_count": 2,
   "id": "b9ec1eac",
   "metadata": {},
   "outputs": [],
   "source": [
    "myList = [1, 2, 3]"
   ]
  },
  {
   "cell_type": "code",
   "execution_count": 4,
   "id": "ae043845",
   "metadata": {},
   "outputs": [
    {
     "data": {
      "text/plain": [
       "3"
      ]
     },
     "execution_count": 4,
     "metadata": {},
     "output_type": "execute_result"
    }
   ],
   "source": [
    "len(t)"
   ]
  },
  {
   "cell_type": "code",
   "execution_count": 7,
   "id": "52549fd5",
   "metadata": {},
   "outputs": [],
   "source": [
    "# Like a list we can have String or variable in a Tuple\n",
    "\n",
    "t = ('one', 2)"
   ]
  },
  {
   "cell_type": "code",
   "execution_count": 8,
   "id": "8b511b82",
   "metadata": {},
   "outputs": [
    {
     "data": {
      "text/plain": [
       "2"
      ]
     },
     "execution_count": 8,
     "metadata": {},
     "output_type": "execute_result"
    }
   ],
   "source": [
    "# Like a list you can also gab at index e.i. 0\n",
    "\n",
    "t[1]"
   ]
  },
  {
   "cell_type": "code",
   "execution_count": 9,
   "id": "a9dc238f",
   "metadata": {},
   "outputs": [
    {
     "data": {
      "text/plain": [
       "'one'"
      ]
     },
     "execution_count": 9,
     "metadata": {},
     "output_type": "execute_result"
    }
   ],
   "source": [
    "t[-2]"
   ]
  },
  {
   "cell_type": "code",
   "execution_count": 11,
   "id": "e1bda2f5",
   "metadata": {},
   "outputs": [],
   "source": [
    "# There are two special methods for Tuples\n",
    "\n",
    "t = ('a', 'a', 'b')"
   ]
  },
  {
   "cell_type": "code",
   "execution_count": 13,
   "id": "b8624fef",
   "metadata": {},
   "outputs": [
    {
     "data": {
      "text/plain": [
       "2"
      ]
     },
     "execution_count": 13,
     "metadata": {},
     "output_type": "execute_result"
    }
   ],
   "source": [
    "t.count('a')"
   ]
  },
  {
   "cell_type": "code",
   "execution_count": 14,
   "id": "3cc5dff6",
   "metadata": {},
   "outputs": [
    {
     "data": {
      "text/plain": [
       "0"
      ]
     },
     "execution_count": 14,
     "metadata": {},
     "output_type": "execute_result"
    }
   ],
   "source": [
    "t.index('a')"
   ]
  },
  {
   "cell_type": "code",
   "execution_count": 15,
   "id": "901644d6",
   "metadata": {},
   "outputs": [
    {
     "data": {
      "text/plain": [
       "2"
      ]
     },
     "execution_count": 15,
     "metadata": {},
     "output_type": "execute_result"
    }
   ],
   "source": [
    "t.index('b')"
   ]
  },
  {
   "cell_type": "code",
   "execution_count": 18,
   "id": "340a427e",
   "metadata": {},
   "outputs": [],
   "source": [
    "# Tuples does nto support item assigment. See List below:\n",
    "\n",
    "myList[0] = 'NEW'"
   ]
  },
  {
   "cell_type": "code",
   "execution_count": 17,
   "id": "5ee7be59",
   "metadata": {},
   "outputs": [
    {
     "data": {
      "text/plain": [
       "['NEW', 2, 3]"
      ]
     },
     "execution_count": 17,
     "metadata": {},
     "output_type": "execute_result"
    }
   ],
   "source": [
    "myList"
   ]
  },
  {
   "cell_type": "markdown",
   "id": "e2955674",
   "metadata": {},
   "source": [
    "<h2><b>Sets in Python</h2></b> \n",
    "It has to be unique values, if you try to repeat a value it won't take it e.i. 1, 2 and you pass 2 Output will be 1,2"
   ]
  },
  {
   "cell_type": "code",
   "execution_count": 19,
   "id": "76bfc4eb",
   "metadata": {},
   "outputs": [],
   "source": [
    "mySet = set()"
   ]
  },
  {
   "cell_type": "code",
   "execution_count": 20,
   "id": "1119d03d",
   "metadata": {},
   "outputs": [
    {
     "data": {
      "text/plain": [
       "set()"
      ]
     },
     "execution_count": 20,
     "metadata": {},
     "output_type": "execute_result"
    }
   ],
   "source": [
    "mySet"
   ]
  },
  {
   "cell_type": "code",
   "execution_count": 22,
   "id": "a2c8880f",
   "metadata": {},
   "outputs": [],
   "source": [
    "mySet.add(1)"
   ]
  },
  {
   "cell_type": "code",
   "execution_count": 23,
   "id": "e3ad0459",
   "metadata": {},
   "outputs": [
    {
     "data": {
      "text/plain": [
       "{1}"
      ]
     },
     "execution_count": 23,
     "metadata": {},
     "output_type": "execute_result"
    }
   ],
   "source": [
    "mySet"
   ]
  },
  {
   "cell_type": "code",
   "execution_count": 24,
   "id": "33662309",
   "metadata": {},
   "outputs": [],
   "source": [
    "mySet.add(2)"
   ]
  },
  {
   "cell_type": "code",
   "execution_count": 25,
   "id": "298ee75f",
   "metadata": {},
   "outputs": [
    {
     "data": {
      "text/plain": [
       "{1, 2}"
      ]
     },
     "execution_count": 25,
     "metadata": {},
     "output_type": "execute_result"
    }
   ],
   "source": [
    "mySet"
   ]
  },
  {
   "cell_type": "code",
   "execution_count": 26,
   "id": "d5fdaefb",
   "metadata": {},
   "outputs": [],
   "source": [
    "myList = [1, 1, 1, 1, 1, 1, 2, 2, 2, 3, 3, 3, 3, 3]"
   ]
  },
  {
   "cell_type": "code",
   "execution_count": 28,
   "id": "c823fec4",
   "metadata": {},
   "outputs": [
    {
     "data": {
      "text/plain": [
       "{1, 2, 3}"
      ]
     },
     "execution_count": 28,
     "metadata": {},
     "output_type": "execute_result"
    }
   ],
   "source": [
    "# Casting a List as a Set and you get back only unique. Sets do not Ouput Sorted-Index values.\n",
    "\n",
    "set(myList)"
   ]
  },
  {
   "cell_type": "markdown",
   "id": "61e6b922",
   "metadata": {},
   "source": [
    "<h2><b>Booleans in Python</h2></b> "
   ]
  },
  {
   "cell_type": "code",
   "execution_count": 30,
   "id": "7ee5a02e",
   "metadata": {},
   "outputs": [
    {
     "data": {
      "text/plain": [
       "False"
      ]
     },
     "execution_count": 30,
     "metadata": {},
     "output_type": "execute_result"
    }
   ],
   "source": [
    "1 > 2"
   ]
  },
  {
   "cell_type": "code",
   "execution_count": 31,
   "id": "2ebe5a48",
   "metadata": {},
   "outputs": [
    {
     "data": {
      "text/plain": [
       "True"
      ]
     },
     "execution_count": 31,
     "metadata": {},
     "output_type": "execute_result"
    }
   ],
   "source": [
    "1 == 1"
   ]
  },
  {
   "cell_type": "code",
   "execution_count": 34,
   "id": "446afce9",
   "metadata": {},
   "outputs": [],
   "source": [
    "# None is place holder\n",
    "\n",
    "b = None"
   ]
  },
  {
   "cell_type": "markdown",
   "id": "669d12d4",
   "metadata": {},
   "source": [
    "<h2><b>I/O with Basic Files in Python</h2></b> "
   ]
  },
  {
   "cell_type": "code",
   "execution_count": 36,
   "id": "219e3394",
   "metadata": {},
   "outputs": [
    {
     "name": "stdout",
     "output_type": "stream",
     "text": [
      "Writing myfile.txt\n"
     ]
    }
   ],
   "source": [
    "%%writefile myfile.txt\n",
    "Hello this is a text file\n",
    "this is the second line\n",
    "this is the third line"
   ]
  },
  {
   "cell_type": "code",
   "execution_count": 37,
   "id": "2da16e21",
   "metadata": {},
   "outputs": [],
   "source": [
    "myfile = open('myfile.txt')"
   ]
  },
  {
   "cell_type": "code",
   "execution_count": 38,
   "id": "30c26046",
   "metadata": {},
   "outputs": [
    {
     "data": {
      "text/plain": [
       "'/Users/graceart/My Python Udemy'"
      ]
     },
     "execution_count": 38,
     "metadata": {},
     "output_type": "execute_result"
    }
   ],
   "source": [
    "pwd"
   ]
  },
  {
   "cell_type": "code",
   "execution_count": 40,
   "id": "ed72fd4e",
   "metadata": {},
   "outputs": [],
   "source": [
    "myfile = open('myfile.txt')"
   ]
  },
  {
   "cell_type": "code",
   "execution_count": 42,
   "id": "f6a01be4",
   "metadata": {},
   "outputs": [
    {
     "data": {
      "text/plain": [
       "'Hello this is a text file\\nthis is the second line\\nthis is the third line\\n'"
      ]
     },
     "execution_count": 42,
     "metadata": {},
     "output_type": "execute_result"
    }
   ],
   "source": [
    "myfile.read()"
   ]
  },
  {
   "cell_type": "code",
   "execution_count": 51,
   "id": "12dbdb83",
   "metadata": {},
   "outputs": [
    {
     "data": {
      "text/plain": [
       "0"
      ]
     },
     "execution_count": 51,
     "metadata": {},
     "output_type": "execute_result"
    }
   ],
   "source": [
    "# To Reset cursor to re-read the file from beginning\n",
    "\n",
    "myfile.seek(0)"
   ]
  },
  {
   "cell_type": "code",
   "execution_count": 54,
   "id": "f0f211d3",
   "metadata": {},
   "outputs": [],
   "source": [
    "contents = myfile.read()"
   ]
  },
  {
   "cell_type": "code",
   "execution_count": 53,
   "id": "2915fe02",
   "metadata": {},
   "outputs": [
    {
     "data": {
      "text/plain": [
       "'Hello this is a text file\\nthis is the second line\\nthis is the third line\\n'"
      ]
     },
     "execution_count": 53,
     "metadata": {},
     "output_type": "execute_result"
    }
   ],
   "source": [
    "contents"
   ]
  },
  {
   "cell_type": "code",
   "execution_count": 55,
   "id": "85ab939d",
   "metadata": {},
   "outputs": [
    {
     "data": {
      "text/plain": [
       "0"
      ]
     },
     "execution_count": 55,
     "metadata": {},
     "output_type": "execute_result"
    }
   ],
   "source": [
    "myfile.seek(0)"
   ]
  },
  {
   "cell_type": "code",
   "execution_count": 57,
   "id": "802037b8",
   "metadata": {},
   "outputs": [
    {
     "data": {
      "text/plain": [
       "['Hello this is a text file\\n',\n",
       " 'this is the second line\\n',\n",
       " 'this is the third line\\n']"
      ]
     },
     "execution_count": 57,
     "metadata": {},
     "output_type": "execute_result"
    }
   ],
   "source": [
    "# To get line in a single line while reading\n",
    "\n",
    "myfile.readlines()"
   ]
  },
  {
   "cell_type": "markdown",
   "id": "f065f92c",
   "metadata": {},
   "source": [
    "<b><h1>File Locations</b></h1> simply pass in the entire file path.\n",
    "\n",
    "For Windows: <mark >myfile = open(\"C:\\\\Users\\\\UserName\\\\Folder\\\\test.txt\")</mark>\n",
    "\n",
    "For Mac: <mark >myfile = open(\"/Users/YourUserName/Folder/myfile.txt\")</mark>"
   ]
  },
  {
   "cell_type": "code",
   "execution_count": 58,
   "id": "8c61d73f",
   "metadata": {},
   "outputs": [
    {
     "data": {
      "text/plain": [
       "'/Users/graceart/My Python Udemy'"
      ]
     },
     "execution_count": 58,
     "metadata": {},
     "output_type": "execute_result"
    }
   ],
   "source": [
    "pwd"
   ]
  },
  {
   "cell_type": "code",
   "execution_count": 59,
   "id": "67ca7e68",
   "metadata": {},
   "outputs": [],
   "source": [
    "myfile.close()"
   ]
  },
  {
   "cell_type": "code",
   "execution_count": 62,
   "id": "73afa1ff",
   "metadata": {},
   "outputs": [],
   "source": [
    "# How to open a File without worrying about closing \n",
    "\n",
    "with open('myfile.txt') as my_new_file:\n",
    "    contents = my_new_file.read()"
   ]
  },
  {
   "cell_type": "code",
   "execution_count": 68,
   "id": "4b6031ac",
   "metadata": {},
   "outputs": [],
   "source": [
    "# Reading, writing to a file, modifying\n",
    "# W = to Write only (will overwrite files or create new), R = to read only, A = append. Sometimes you need permisions R&W or vice \n",
    "# R+ = R & W, W+ = W & R. Overwites existing files or creates a new file. \n",
    "\n",
    "with open('myfile.txt', mode = 'r') as myfile:\n",
    "    contents = myfile.read()"
   ]
  },
  {
   "cell_type": "code",
   "execution_count": 69,
   "id": "fd1774c9",
   "metadata": {},
   "outputs": [
    {
     "name": "stdout",
     "output_type": "stream",
     "text": [
      "Writing my_new_file.txt\n"
     ]
    }
   ],
   "source": [
    "%%writefile my_new_file.txt\n",
    "ONE ON FIRST \n",
    "TWO ON SECOND\n",
    "THREE ON THIRD "
   ]
  },
  {
   "cell_type": "code",
   "execution_count": 70,
   "id": "2ff9853a",
   "metadata": {},
   "outputs": [
    {
     "name": "stdout",
     "output_type": "stream",
     "text": [
      "ONE ON FIRST \n",
      "TWO ON SECOND\n",
      "THREE ON THIRD \n",
      "\n"
     ]
    }
   ],
   "source": [
    "with open('my_new_file.txt', mode = 'r') as f:\n",
    "    print(f.read())"
   ]
  },
  {
   "cell_type": "code",
   "execution_count": 75,
   "id": "2aff2de4",
   "metadata": {},
   "outputs": [],
   "source": [
    "with open ('my_new_file.txt', mode = 'a') as f: \n",
    "    f.write('\\nFOUR ON FOURTH')"
   ]
  },
  {
   "cell_type": "code",
   "execution_count": 76,
   "id": "ea8e67ac",
   "metadata": {},
   "outputs": [
    {
     "name": "stdout",
     "output_type": "stream",
     "text": [
      "ONE ON FIRST \n",
      "TWO ON SECOND\n",
      "THREE ON THIRD \n",
      "FOUR ON FOURTH\n",
      "FOUR ON FOURTH\n"
     ]
    }
   ],
   "source": [
    "with open('my_new_file.txt', mode = 'r') as f:\n",
    "    print(f.read())"
   ]
  },
  {
   "cell_type": "code",
   "execution_count": 81,
   "id": "ecebcfb4",
   "metadata": {},
   "outputs": [],
   "source": [
    "with open ('khgafkdghajgag;aioereg.txt', mode = 'w') as f: \n",
    "    f.write('I CREATED THIS FILE')"
   ]
  },
  {
   "cell_type": "code",
   "execution_count": 82,
   "id": "61f513e8",
   "metadata": {},
   "outputs": [
    {
     "name": "stdout",
     "output_type": "stream",
     "text": [
      "I CREATED THIS FILE\n"
     ]
    }
   ],
   "source": [
    "with open('khgafkdghajgag;aioereg.txt', mode = 'r') as f:\n",
    "    print(f.read())"
   ]
  },
  {
   "cell_type": "code",
   "execution_count": null,
   "id": "15a80d18",
   "metadata": {},
   "outputs": [],
   "source": []
  }
 ],
 "metadata": {
  "kernelspec": {
   "display_name": "Python 3 (ipykernel)",
   "language": "python",
   "name": "python3"
  },
  "language_info": {
   "codemirror_mode": {
    "name": "ipython",
    "version": 3
   },
   "file_extension": ".py",
   "mimetype": "text/x-python",
   "name": "python",
   "nbconvert_exporter": "python",
   "pygments_lexer": "ipython3",
   "version": "3.9.12"
  }
 },
 "nbformat": 4,
 "nbformat_minor": 5
}
