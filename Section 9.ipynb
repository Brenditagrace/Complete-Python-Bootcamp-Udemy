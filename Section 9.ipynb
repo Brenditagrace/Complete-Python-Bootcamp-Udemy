{
 "cells": [
  {
   "cell_type": "markdown",
   "id": "42029e64",
   "metadata": {},
   "source": [
    "<h2><b>Pip Install and PyPi</h2></b>\n",
    "\n",
    "Installing Python pip on your system allows you to manage PyPI packages easily. Many of these packages can be installed just by typing python -m pip install <package-name> into a terminal or command-line. Newer versions of Python 3 (3.4 and higher) and Python 2 (2.7. 9 and higher) come preloaded with pip"
   ]
  },
  {
   "cell_type": "markdown",
   "id": "a8ae6113",
   "metadata": {},
   "source": [
    "<h2><b>Modules and Packages</h2></b>\n",
    "\n",
    "* <mark>Modules</mark> in Python are simply Python files with the .py extension, which implement a set of functions. Modules are imported from other modules using the <code>import</code> command.\n",
    "\n",
    "1. A package holds the file <mark>__init__.py</mark> for every user-oriented code. But this does not apply to modules in runtime for any user-specific codes.\n",
    "2. A module is a file containing Python code in run time for a user-specific code. A package also modifies the user interpreted code in such a way that it gets easily functioned in the run time.\n",
    "\n",
    "A python “module” consists of a unit namespace, with the locally extracted variables."
   ]
  },
  {
   "cell_type": "code",
   "execution_count": null,
   "id": "9b32c035",
   "metadata": {},
   "outputs": [],
   "source": []
  }
 ],
 "metadata": {
  "kernelspec": {
   "display_name": "Python 3 (ipykernel)",
   "language": "python",
   "name": "python3"
  },
  "language_info": {
   "codemirror_mode": {
    "name": "ipython",
    "version": 3
   },
   "file_extension": ".py",
   "mimetype": "text/x-python",
   "name": "python",
   "nbconvert_exporter": "python",
   "pygments_lexer": "ipython3",
   "version": "3.9.12"
  }
 },
 "nbformat": 4,
 "nbformat_minor": 5
}
