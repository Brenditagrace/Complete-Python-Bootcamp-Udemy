{
 "cells": [
  {
   "cell_type": "markdown",
   "id": "e06694a4",
   "metadata": {},
   "source": [
    "<h2><b>Errors and Exception Handling</h2></b>"
   ]
  },
  {
   "cell_type": "code",
   "execution_count": null,
   "id": "e6e3a08d",
   "metadata": {},
   "outputs": [],
   "source": [
    "def add (n1, n2):\n",
    "    print (n1 + n2)"
   ]
  }
 ],
 "metadata": {
  "kernelspec": {
   "display_name": "Python 3 (ipykernel)",
   "language": "python",
   "name": "python3"
  },
  "language_info": {
   "codemirror_mode": {
    "name": "ipython",
    "version": 3
   },
   "file_extension": ".py",
   "mimetype": "text/x-python",
   "name": "python",
   "nbconvert_exporter": "python",
   "pygments_lexer": "ipython3",
   "version": "3.9.12"
  }
 },
 "nbformat": 4,
 "nbformat_minor": 5
}
