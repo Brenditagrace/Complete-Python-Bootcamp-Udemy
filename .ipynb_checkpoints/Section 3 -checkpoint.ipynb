{
 "cells": [
  {
   "cell_type": "markdown",
   "id": "afdacfe1",
   "metadata": {},
   "source": [
    "Section 3: Object and Data Structures Basics\n",
    "\n",
    "- e.i. Strings, floats, bools"
   ]
  },
  {
   "cell_type": "code",
   "execution_count": 6,
   "id": "bde14bd9",
   "metadata": {},
   "outputs": [],
   "source": [
    "a = 5 "
   ]
  },
  {
   "cell_type": "code",
   "execution_count": 7,
   "id": "ac3020f6",
   "metadata": {},
   "outputs": [],
   "source": [
    "a = 10"
   ]
  },
  {
   "cell_type": "code",
   "execution_count": 9,
   "id": "1762b897",
   "metadata": {},
   "outputs": [],
   "source": [
    "a = a + a"
   ]
  },
  {
   "cell_type": "code",
   "execution_count": 8,
   "id": "279c0bc2",
   "metadata": {},
   "outputs": [],
   "source": [
    "myIncome = 200\n",
    "taxRate = 0.1\n",
    "\n",
    "myTaxes = myIncome + taxRate\n",
    "\n"
   ]
  },
  {
   "cell_type": "code",
   "execution_count": 3,
   "id": "e693ee11",
   "metadata": {},
   "outputs": [
    {
     "data": {
      "text/plain": [
       "'hello there'"
      ]
     },
     "execution_count": 3,
     "metadata": {},
     "output_type": "execute_result"
    }
   ],
   "source": [
    "'hello there'"
   ]
  },
  {
   "cell_type": "code",
   "execution_count": 4,
   "id": "fcc1d26c",
   "metadata": {},
   "outputs": [
    {
     "data": {
      "text/plain": [
       "'how are you'"
      ]
     },
     "execution_count": 4,
     "metadata": {},
     "output_type": "execute_result"
    }
   ],
   "source": [
    "\"how are you\""
   ]
  },
  {
   "cell_type": "code",
   "execution_count": 5,
   "id": "d64e506c",
   "metadata": {},
   "outputs": [
    {
     "data": {
      "text/plain": [
       "\"I'm okay\""
      ]
     },
     "execution_count": 5,
     "metadata": {},
     "output_type": "execute_result"
    }
   ],
   "source": [
    "\"I'm okay\""
   ]
  },
  {
   "cell_type": "code",
   "execution_count": 12,
   "id": "bc0c495c",
   "metadata": {},
   "outputs": [
    {
     "name": "stdout",
     "output_type": "stream",
     "text": [
      "Yummy \n",
      "Yummiest\n"
     ]
    }
   ],
   "source": [
    "print ('Yummy \\nYummiest')"
   ]
  },
  {
   "cell_type": "code",
   "execution_count": 13,
   "id": "aab23fa6",
   "metadata": {},
   "outputs": [
    {
     "data": {
      "text/plain": [
       "5"
      ]
     },
     "execution_count": 13,
     "metadata": {},
     "output_type": "execute_result"
    }
   ],
   "source": [
    "len ('I am ')"
   ]
  },
  {
   "cell_type": "code",
   "execution_count": 2,
   "id": "88b1b581",
   "metadata": {},
   "outputs": [
    {
     "name": "stdout",
     "output_type": "stream",
     "text": [
      "Yumm /tYummers\n"
     ]
    }
   ],
   "source": [
    "print ('Yumm /tYummers')"
   ]
  },
  {
   "cell_type": "code",
   "execution_count": 3,
   "id": "fc163efc",
   "metadata": {},
   "outputs": [],
   "source": [
    "myString = \"Yellow, what is your name?\""
   ]
  },
  {
   "cell_type": "code",
   "execution_count": 4,
   "id": "b31b0f3b",
   "metadata": {},
   "outputs": [
    {
     "data": {
      "text/plain": [
       "'Yellow, what is your name?'"
      ]
     },
     "execution_count": 4,
     "metadata": {},
     "output_type": "execute_result"
    }
   ],
   "source": [
    "myString"
   ]
  },
  {
   "cell_type": "code",
   "execution_count": 5,
   "id": "d47d5320",
   "metadata": {},
   "outputs": [
    {
     "data": {
      "text/plain": [
       "'w'"
      ]
     },
     "execution_count": 5,
     "metadata": {},
     "output_type": "execute_result"
    }
   ],
   "source": [
    "myString[5]"
   ]
  },
  {
   "cell_type": "code",
   "execution_count": 6,
   "id": "d945f8a1",
   "metadata": {},
   "outputs": [
    {
     "data": {
      "text/plain": [
       "'a'"
      ]
     },
     "execution_count": 6,
     "metadata": {},
     "output_type": "execute_result"
    }
   ],
   "source": [
    "myString[10]"
   ]
  },
  {
   "cell_type": "code",
   "execution_count": 7,
   "id": "5c55ba7c",
   "metadata": {},
   "outputs": [
    {
     "data": {
      "text/plain": [
       "'m'"
      ]
     },
     "execution_count": 7,
     "metadata": {},
     "output_type": "execute_result"
    }
   ],
   "source": [
    "myString [-3]"
   ]
  },
  {
   "cell_type": "markdown",
   "id": "3cdf95e4",
   "metadata": {},
   "source": [
    "<b>Slicing</b> is a sub-section on a string"
   ]
  },
  {
   "cell_type": "code",
   "execution_count": 8,
   "id": "424707dd",
   "metadata": {},
   "outputs": [
    {
     "data": {
      "text/plain": [
       "'Yellow, what is your name?'"
      ]
     },
     "execution_count": 8,
     "metadata": {},
     "output_type": "execute_result"
    }
   ],
   "source": [
    "myString "
   ]
  },
  {
   "cell_type": "code",
   "execution_count": 9,
   "id": "e22d0f5d",
   "metadata": {},
   "outputs": [],
   "source": [
    "myString = 'abcdefghijk'"
   ]
  },
  {
   "cell_type": "code",
   "execution_count": 10,
   "id": "62380172",
   "metadata": {},
   "outputs": [
    {
     "data": {
      "text/plain": [
       "'abcdefghijk'"
      ]
     },
     "execution_count": 10,
     "metadata": {},
     "output_type": "execute_result"
    }
   ],
   "source": [
    "myString"
   ]
  },
  {
   "cell_type": "code",
   "execution_count": 11,
   "id": "05813e09",
   "metadata": {},
   "outputs": [
    {
     "data": {
      "text/plain": [
       "'d'"
      ]
     },
     "execution_count": 11,
     "metadata": {},
     "output_type": "execute_result"
    }
   ],
   "source": [
    "myString[3]"
   ]
  },
  {
   "cell_type": "code",
   "execution_count": 12,
   "id": "36f56c04",
   "metadata": {},
   "outputs": [
    {
     "data": {
      "text/plain": [
       "'defghijk'"
      ]
     },
     "execution_count": 12,
     "metadata": {},
     "output_type": "execute_result"
    }
   ],
   "source": [
    "myString[3:]"
   ]
  },
  {
   "cell_type": "code",
   "execution_count": 13,
   "id": "d6c5db3d",
   "metadata": {},
   "outputs": [
    {
     "data": {
      "text/plain": [
       "'abc'"
      ]
     },
     "execution_count": 13,
     "metadata": {},
     "output_type": "execute_result"
    }
   ],
   "source": [
    "myString[:3]"
   ]
  },
  {
   "cell_type": "code",
   "execution_count": 15,
   "id": "f62faf13",
   "metadata": {},
   "outputs": [
    {
     "data": {
      "text/plain": [
       "'def'"
      ]
     },
     "execution_count": 15,
     "metadata": {},
     "output_type": "execute_result"
    }
   ],
   "source": [
    "myString [3:6]"
   ]
  },
  {
   "cell_type": "code",
   "execution_count": 16,
   "id": "9746213c",
   "metadata": {},
   "outputs": [
    {
     "data": {
      "text/plain": [
       "'bc'"
      ]
     },
     "execution_count": 16,
     "metadata": {},
     "output_type": "execute_result"
    }
   ],
   "source": [
    "myString[1:3]"
   ]
  },
  {
   "cell_type": "code",
   "execution_count": 17,
   "id": "6bc2a3bf",
   "metadata": {},
   "outputs": [
    {
     "data": {
      "text/plain": [
       "'efg'"
      ]
     },
     "execution_count": 17,
     "metadata": {},
     "output_type": "execute_result"
    }
   ],
   "source": [
    "myString [4:7]"
   ]
  },
  {
   "cell_type": "markdown",
   "id": "927c3c25",
   "metadata": {},
   "source": [
    "Step side in slicng works and is anototed liek this <b>[::]</b>. When adding a number in front of it it means it from e.i 1 and jumps/ counts in 3's. See code below. Another step side example you can do is my String [2:7:3], which can be use a method to reverse a string."
   ]
  },
  {
   "cell_type": "markdown",
   "id": "409287db",
   "metadata": {},
   "source": [
    "myString [1::3]"
   ]
  },
  {
   "cell_type": "markdown",
   "id": "55e07c09",
   "metadata": {},
   "source": [
    "To <b>reverse a string</b> EX: myString [::-1]"
   ]
  },
  {
   "cell_type": "markdown",
   "id": "43704101",
   "metadata": {},
   "source": [
    "<h2><b>Immutability</h2></b> String contactination "
   ]
  },
  {
   "cell_type": "code",
   "execution_count": 20,
   "id": "615de576",
   "metadata": {},
   "outputs": [],
   "source": [
    "name = \"Sam\""
   ]
  },
  {
   "cell_type": "code",
   "execution_count": 21,
   "id": "44118180",
   "metadata": {},
   "outputs": [],
   "source": [
    "# name[0] = 'P'"
   ]
  },
  {
   "cell_type": "code",
   "execution_count": 24,
   "id": "ffccfa1f",
   "metadata": {},
   "outputs": [],
   "source": [
    "lastLetter = name[1:]"
   ]
  },
  {
   "cell_type": "code",
   "execution_count": 25,
   "id": "17f82e3f",
   "metadata": {},
   "outputs": [
    {
     "data": {
      "text/plain": [
       "'Pam'"
      ]
     },
     "execution_count": 25,
     "metadata": {},
     "output_type": "execute_result"
    }
   ],
   "source": [
    "\"P\" + lastLetter"
   ]
  },
  {
   "cell_type": "code",
   "execution_count": 34,
   "id": "8ba1fc19",
   "metadata": {},
   "outputs": [],
   "source": [
    "x = 'Hello world! '"
   ]
  },
  {
   "cell_type": "code",
   "execution_count": 33,
   "id": "68621dca",
   "metadata": {},
   "outputs": [
    {
     "data": {
      "text/plain": [
       "'Hello world!it is beautiful outside!'"
      ]
     },
     "execution_count": 33,
     "metadata": {},
     "output_type": "execute_result"
    }
   ],
   "source": [
    "x = x + \"it is beautiful outside!\""
   ]
  },
  {
   "cell_type": "code",
   "execution_count": 35,
   "id": "98cd691b",
   "metadata": {},
   "outputs": [],
   "source": [
    "letter = 'z'"
   ]
  },
  {
   "cell_type": "raw",
   "id": "0da8d5f9",
   "metadata": {},
   "source": [
    "letter * 10"
   ]
  },
  {
   "cell_type": "markdown",
   "id": "64aa30cb",
   "metadata": {},
   "source": [
    "<h2><b>Methods</h2></b> in Python"
   ]
  },
  {
   "cell_type": "code",
   "execution_count": 37,
   "id": "7b56b0bc",
   "metadata": {},
   "outputs": [],
   "source": [
    "x = 'Hello World'"
   ]
  },
  {
   "cell_type": "code",
   "execution_count": 38,
   "id": "c334b8a4",
   "metadata": {},
   "outputs": [
    {
     "data": {
      "text/plain": [
       "'HELLO WORLD'"
      ]
     },
     "execution_count": 38,
     "metadata": {},
     "output_type": "execute_result"
    }
   ],
   "source": [
    "x.upper()"
   ]
  },
  {
   "cell_type": "code",
   "execution_count": 39,
   "id": "87b4752b",
   "metadata": {},
   "outputs": [
    {
     "data": {
      "text/plain": [
       "'hello world'"
      ]
     },
     "execution_count": 39,
     "metadata": {},
     "output_type": "execute_result"
    }
   ],
   "source": [
    "x.lower()"
   ]
  },
  {
   "cell_type": "code",
   "execution_count": 40,
   "id": "64fbd553",
   "metadata": {},
   "outputs": [
    {
     "data": {
      "text/plain": [
       "['Hello', 'World']"
      ]
     },
     "execution_count": 40,
     "metadata": {},
     "output_type": "execute_result"
    }
   ],
   "source": [
    "x.split()"
   ]
  },
  {
   "cell_type": "code",
   "execution_count": 41,
   "id": "acfb01ba",
   "metadata": {},
   "outputs": [],
   "source": [
    "x = 'Hi this is string'"
   ]
  },
  {
   "cell_type": "code",
   "execution_count": 42,
   "id": "ab178831",
   "metadata": {},
   "outputs": [
    {
     "data": {
      "text/plain": [
       "['Hi', 'this', 'is', 'string']"
      ]
     },
     "execution_count": 42,
     "metadata": {},
     "output_type": "execute_result"
    }
   ],
   "source": [
    "x.split()"
   ]
  },
  {
   "cell_type": "code",
   "execution_count": 44,
   "id": "779b77bc",
   "metadata": {},
   "outputs": [
    {
     "data": {
      "text/plain": [
       "['H', ' th', 's ', 's str', 'ng']"
      ]
     },
     "execution_count": 44,
     "metadata": {},
     "output_type": "execute_result"
    }
   ],
   "source": [
    "x.split('i')"
   ]
  },
  {
   "cell_type": "markdown",
   "id": "0c62e6b5",
   "metadata": {},
   "source": [
    "<h2><b>Print Formatting with Strings</h2></b> \n",
    "A way to format onjects into your string for print statement with the <b>string.format()</b>"
   ]
  },
  {
   "cell_type": "code",
   "execution_count": 3,
   "id": "9260303d",
   "metadata": {},
   "outputs": [
    {
     "name": "stdout",
     "output_type": "stream",
     "text": [
      "this is a string INSERTED\n"
     ]
    }
   ],
   "source": [
    "print ('this is a string {}'.format('INSERTED'))"
   ]
  },
  {
   "cell_type": "markdown",
   "id": "7287a02c",
   "metadata": {},
   "source": [
    "You can use the <b>.format</b> method to index. See below"
   ]
  },
  {
   "cell_type": "code",
   "execution_count": 5,
   "id": "edb6436a",
   "metadata": {},
   "outputs": [
    {
     "name": "stdout",
     "output_type": "stream",
     "text": [
      "The quick brown fox\n"
     ]
    }
   ],
   "source": [
    "print ('The {2} {1} {0}'.format('fox', 'brown', 'quick'))"
   ]
  },
  {
   "cell_type": "code",
   "execution_count": 8,
   "id": "5cf1dea4",
   "metadata": {},
   "outputs": [
    {
     "name": "stdout",
     "output_type": "stream",
     "text": [
      "The fox fox fox\n"
     ]
    }
   ],
   "source": [
    "# We can also repeat the index\n",
    "\n",
    "print ('The {0} {0} {0}'.format('fox', 'brown', 'quick'))"
   ]
  },
  {
   "cell_type": "code",
   "execution_count": 11,
   "id": "29c71357",
   "metadata": {},
   "outputs": [
    {
     "name": "stdout",
     "output_type": "stream",
     "text": [
      "The quick brown fox\n"
     ]
    }
   ],
   "source": [
    "# We can also assigned keywords\n",
    "\n",
    "print ('The {q} {b} {f}'.format(f = 'fox', b = 'brown', q = 'quick'))"
   ]
  },
  {
   "cell_type": "markdown",
   "id": "f6719da6",
   "metadata": {},
   "source": [
    "<b>FLOAT</b> foramting allows you to adjust the width and precision of your float point number."
   ]
  },
  {
   "cell_type": "code",
   "execution_count": 12,
   "id": "ebf6af78",
   "metadata": {},
   "outputs": [],
   "source": [
    "result = 100/777"
   ]
  },
  {
   "cell_type": "code",
   "execution_count": 13,
   "id": "0c9d221e",
   "metadata": {},
   "outputs": [
    {
     "data": {
      "text/plain": [
       "0.1287001287001287"
      ]
     },
     "execution_count": 13,
     "metadata": {},
     "output_type": "execute_result"
    }
   ],
   "source": [
    "result"
   ]
  },
  {
   "cell_type": "code",
   "execution_count": 19,
   "id": "326275c9",
   "metadata": {},
   "outputs": [
    {
     "name": "stdout",
     "output_type": "stream",
     "text": [
      "The result was 0.129\n"
     ]
    }
   ],
   "source": [
    "# Float formatting follows \"{value:width.precisionf}\"\n",
    "\n",
    "print (\"The result was {r:1.3f}\".format(r = result))"
   ]
  },
  {
   "cell_type": "code",
   "execution_count": 22,
   "id": "89d05243",
   "metadata": {},
   "outputs": [
    {
     "name": "stdout",
     "output_type": "stream",
     "text": [
      "Hello, her name is Grace\n"
     ]
    }
   ],
   "source": [
    "# Another way to print in \"f\" format \n",
    "\n",
    "name = \"Grace\"\n",
    "\n",
    "print (f'Hello, her name is {name}')"
   ]
  },
  {
   "cell_type": "code",
   "execution_count": 23,
   "id": "850a31bf",
   "metadata": {},
   "outputs": [
    {
     "name": "stdout",
     "output_type": "stream",
     "text": [
      "Jerry is 5 years old.\n"
     ]
    }
   ],
   "source": [
    "# \"f\" works with multiple variables. Thi is very quick way to do string interpolation which is just injecting\n",
    "\n",
    "name = 'Jerry'\n",
    "age = 5\n",
    "\n",
    "print (f'{name} is {age} years old.')"
   ]
  },
  {
   "cell_type": "markdown",
   "id": "9e7246f4",
   "metadata": {},
   "source": [
    "<h2><b>Lists in Python</h2></b>"
   ]
  },
  {
   "cell_type": "code",
   "execution_count": 2,
   "id": "c74022a4",
   "metadata": {},
   "outputs": [],
   "source": [
    "myList = [1, 2, 3]"
   ]
  },
  {
   "cell_type": "code",
   "execution_count": 3,
   "id": "b7e85639",
   "metadata": {},
   "outputs": [],
   "source": [
    "myList = ['STRING', 100, 23.2]"
   ]
  },
  {
   "cell_type": "code",
   "execution_count": 4,
   "id": "e59db211",
   "metadata": {},
   "outputs": [
    {
     "data": {
      "text/plain": [
       "3"
      ]
     },
     "execution_count": 4,
     "metadata": {},
     "output_type": "execute_result"
    }
   ],
   "source": [
    "len(myList)"
   ]
  },
  {
   "cell_type": "code",
   "execution_count": 5,
   "id": "c0bea82b",
   "metadata": {},
   "outputs": [],
   "source": [
    "mylist = [\"one\", \"two\", \"three\"]"
   ]
  },
  {
   "cell_type": "code",
   "execution_count": 6,
   "id": "2789a046",
   "metadata": {},
   "outputs": [
    {
     "data": {
      "text/plain": [
       "['one', 'two', 'three']"
      ]
     },
     "execution_count": 6,
     "metadata": {},
     "output_type": "execute_result"
    }
   ],
   "source": [
    "mylist"
   ]
  },
  {
   "cell_type": "code",
   "execution_count": 7,
   "id": "62711d26",
   "metadata": {},
   "outputs": [],
   "source": [
    "anotherList = [\"four\", \"five\"]"
   ]
  },
  {
   "cell_type": "code",
   "execution_count": 8,
   "id": "2ff6f981",
   "metadata": {},
   "outputs": [
    {
     "data": {
      "text/plain": [
       "['one', 'two', 'three', 'four', 'five']"
      ]
     },
     "execution_count": 8,
     "metadata": {},
     "output_type": "execute_result"
    }
   ],
   "source": [
    "mylist + anotherList"
   ]
  },
  {
   "cell_type": "code",
   "execution_count": 10,
   "id": "469c8654",
   "metadata": {},
   "outputs": [],
   "source": [
    "newList = mylist + anotherList"
   ]
  },
  {
   "cell_type": "code",
   "execution_count": 11,
   "id": "de239a11",
   "metadata": {},
   "outputs": [
    {
     "data": {
      "text/plain": [
       "['one', 'two', 'three', 'four', 'five']"
      ]
     },
     "execution_count": 11,
     "metadata": {},
     "output_type": "execute_result"
    }
   ],
   "source": [
    "newList"
   ]
  },
  {
   "cell_type": "code",
   "execution_count": 23,
   "id": "e18c008f",
   "metadata": {},
   "outputs": [],
   "source": [
    "# To mutate a list\n",
    "\n",
    "newList[0] = 'ONE ALL CAPS'\n",
    "\n",
    "# To append a List\n",
    "# Append allows you to add to a list \n",
    "\n",
    "newList.append('six')"
   ]
  },
  {
   "cell_type": "code",
   "execution_count": 22,
   "id": "61fc9477",
   "metadata": {},
   "outputs": [
    {
     "data": {
      "text/plain": [
       "['ONE ALL CAPS', 'two', 'three', 'four', 'five', 'six', 'six']"
      ]
     },
     "execution_count": 22,
     "metadata": {},
     "output_type": "execute_result"
    }
   ],
   "source": [
    "newList"
   ]
  },
  {
   "cell_type": "code",
   "execution_count": 25,
   "id": "8433f3dd",
   "metadata": {},
   "outputs": [
    {
     "data": {
      "text/plain": [
       "'six'"
      ]
     },
     "execution_count": 25,
     "metadata": {},
     "output_type": "execute_result"
    }
   ],
   "source": [
    "# Pop method\n",
    "\n",
    "newList.pop()\n"
   ]
  },
  {
   "cell_type": "code",
   "execution_count": null,
   "id": "0eff8176",
   "metadata": {
    "collapsed": true
   },
   "outputs": [],
   "source": []
  }
 ],
 "metadata": {
  "kernelspec": {
   "display_name": "Python 3 (ipykernel)",
   "language": "python",
   "name": "python3"
  },
  "language_info": {
   "codemirror_mode": {
    "name": "ipython",
    "version": 3
   },
   "file_extension": ".py",
   "mimetype": "text/x-python",
   "name": "python",
   "nbconvert_exporter": "python",
   "pygments_lexer": "ipython3",
   "version": "3.9.12"
  }
 },
 "nbformat": 4,
 "nbformat_minor": 5
}
