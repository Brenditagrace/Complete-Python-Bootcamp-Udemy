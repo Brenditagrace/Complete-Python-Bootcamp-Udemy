{
 "cells": [
  {
   "cell_type": "markdown",
   "id": "16c36aa9",
   "metadata": {},
   "source": [
    "<h2><b> </h2></b>\n",
    "<h2><b>Methods and Documentation</h2></b>\n",
    "\n",
    "A function that “belongs to” an object. (In Python, the term method is not unique to class instances: other object types can have methods as well. For example, list objects have methods called append, insert, remove, sort, and so on.\n",
    "\n",
    "The methods for a list are:\n",
    "\n",
    "* append\n",
    "* count\n",
    "* extend\n",
    "* insert\n",
    "* pop\n",
    "* remove\n",
    "* reverse\n",
    "* sort"
   ]
  },
  {
   "cell_type": "code",
   "execution_count": 5,
   "id": "c53f3fa8",
   "metadata": {},
   "outputs": [],
   "source": [
    "mylist = [1,2,3]"
   ]
  },
  {
   "cell_type": "code",
   "execution_count": 2,
   "id": "7846ce03",
   "metadata": {},
   "outputs": [],
   "source": [
    "mylist.append(4)"
   ]
  },
  {
   "cell_type": "code",
   "execution_count": 3,
   "id": "c84374df",
   "metadata": {},
   "outputs": [
    {
     "data": {
      "text/plain": [
       "[1, 2, 3, 4]"
      ]
     },
     "execution_count": 3,
     "metadata": {},
     "output_type": "execute_result"
    }
   ],
   "source": [
    "mylist"
   ]
  },
  {
   "cell_type": "code",
   "execution_count": 6,
   "id": "cef7ab09",
   "metadata": {},
   "outputs": [
    {
     "data": {
      "text/plain": [
       "3"
      ]
     },
     "execution_count": 6,
     "metadata": {},
     "output_type": "execute_result"
    }
   ],
   "source": [
    "mylist.pop()"
   ]
  },
  {
   "cell_type": "markdown",
   "id": "9c8a0641",
   "metadata": {},
   "source": [
    "You can always use Shift+Tab in the Jupyter Notebook to get more help about the method. In general Python you can use the help() function:"
   ]
  },
  {
   "cell_type": "code",
   "execution_count": 8,
   "id": "fb0f2bb7",
   "metadata": {},
   "outputs": [
    {
     "name": "stdout",
     "output_type": "stream",
     "text": [
      "Help on built-in function count:\n",
      "\n",
      "count(value, /) method of builtins.list instance\n",
      "    Return number of occurrences of value.\n",
      "\n"
     ]
    }
   ],
   "source": [
    "help(mylist.count)"
   ]
  },
  {
   "cell_type": "markdown",
   "id": "7ce3f9fd",
   "metadata": {},
   "source": [
    "<h2><b>Intro to Functions</h2></b>\n",
    "\n",
    "Is a block of code which only runs when it is called. You can pass data, known as parameters, into a function. A function can return data as a result."
   ]
  },
  {
   "cell_type": "markdown",
   "id": "5436fb02",
   "metadata": {},
   "source": [
    "<h2><b>\"def\" Keyword</h2></b>\n",
    "\n",
    "The function name is followed by parameter(s) in (). The colon : signals the start of the function body, which is marked by indentation. Inside the function body, the return statement determines the value to be returned.\n",
    "\n",
    "<mark>def name_of_function(name):\n",
    "       \n",
    "    '''\n",
    "    \n",
    "    Docstring explains functions\n",
    "    \n",
    "    '''\n",
    "    \n",
    "    print (\"Hello\" + name)\n",
    "</mark>"
   ]
  },
  {
   "cell_type": "code",
   "execution_count": 12,
   "id": "1ec32b83",
   "metadata": {},
   "outputs": [],
   "source": [
    "# Basic of a Python Functions\n",
    "\n",
    "def say_hello():\n",
    "    print(\"hello\")\n",
    "    print(\"how are\")\n",
    "    print(\"you\")"
   ]
  },
  {
   "cell_type": "code",
   "execution_count": 14,
   "id": "c4d51f92",
   "metadata": {},
   "outputs": [
    {
     "name": "stdout",
     "output_type": "stream",
     "text": [
      "hello\n",
      "how are\n",
      "you\n"
     ]
    }
   ],
   "source": [
    "say_hello()"
   ]
  },
  {
   "cell_type": "code",
   "execution_count": 21,
   "id": "5c901e12",
   "metadata": {},
   "outputs": [],
   "source": [
    "def say_hello(name = 'Default'):\n",
    "    print(f'Hello {name}')"
   ]
  },
  {
   "cell_type": "code",
   "execution_count": 22,
   "id": "b6c995df",
   "metadata": {},
   "outputs": [
    {
     "name": "stdout",
     "output_type": "stream",
     "text": [
      "Hello Default\n"
     ]
    }
   ],
   "source": [
    "say_hello()"
   ]
  },
  {
   "cell_type": "code",
   "execution_count": 5,
   "id": "ee8e8ea7",
   "metadata": {},
   "outputs": [],
   "source": [
    "def add_num(num1, num2):\n",
    "    return num1 + num2"
   ]
  },
  {
   "cell_type": "code",
   "execution_count": 6,
   "id": "6e10bd48",
   "metadata": {},
   "outputs": [],
   "source": [
    "result = add_num(10,20)"
   ]
  },
  {
   "cell_type": "code",
   "execution_count": 8,
   "id": "9e604066",
   "metadata": {},
   "outputs": [
    {
     "data": {
      "text/plain": [
       "30"
      ]
     },
     "execution_count": 8,
     "metadata": {},
     "output_type": "execute_result"
    }
   ],
   "source": [
    "result"
   ]
  },
  {
   "cell_type": "markdown",
   "id": "b746da2a",
   "metadata": {},
   "source": [
    "<h2><b>Logic with Python Functions</b></h2>"
   ]
  },
  {
   "cell_type": "code",
   "execution_count": 12,
   "id": "56789fbb",
   "metadata": {},
   "outputs": [
    {
     "data": {
      "text/plain": [
       "0"
      ]
     },
     "execution_count": 12,
     "metadata": {},
     "output_type": "execute_result"
    }
   ],
   "source": [
    "# Checking if number is even\n",
    "# % returns remiender\n",
    "\n",
    "2 % 2"
   ]
  },
  {
   "cell_type": "code",
   "execution_count": 13,
   "id": "a3efe4a4",
   "metadata": {},
   "outputs": [
    {
     "data": {
      "text/plain": [
       "True"
      ]
     },
     "execution_count": 13,
     "metadata": {},
     "output_type": "execute_result"
    }
   ],
   "source": [
    "20 % 2 == 0"
   ]
  },
  {
   "cell_type": "code",
   "execution_count": 18,
   "id": "9f8512c7",
   "metadata": {},
   "outputs": [],
   "source": [
    "def even_check(number):\n",
    "    return number % 2 == 0"
   ]
  },
  {
   "cell_type": "code",
   "execution_count": 19,
   "id": "654c3b33",
   "metadata": {},
   "outputs": [
    {
     "data": {
      "text/plain": [
       "True"
      ]
     },
     "execution_count": 19,
     "metadata": {},
     "output_type": "execute_result"
    }
   ],
   "source": [
    "even_check(20)"
   ]
  },
  {
   "cell_type": "code",
   "execution_count": 20,
   "id": "6cc2f7e1",
   "metadata": {},
   "outputs": [],
   "source": [
    "# Return if any number is even inside a list\n",
    "\n",
    "def check_even_list(num_list):\n",
    "    \n",
    "    for number in num_list:\n",
    "        if number % 2 ==0:\n",
    "            return True\n",
    "        else:\n",
    "            pass"
   ]
  },
  {
   "cell_type": "code",
   "execution_count": 21,
   "id": "6bb9ccd7",
   "metadata": {},
   "outputs": [],
   "source": [
    "check_even_list([1,5,9])"
   ]
  },
  {
   "cell_type": "code",
   "execution_count": 23,
   "id": "b9004b7b",
   "metadata": {},
   "outputs": [
    {
     "data": {
      "text/plain": [
       "True"
      ]
     },
     "execution_count": 23,
     "metadata": {},
     "output_type": "execute_result"
    }
   ],
   "source": [
    "check_even_list([2,8,10])"
   ]
  },
  {
   "cell_type": "code",
   "execution_count": 24,
   "id": "84cb2663",
   "metadata": {},
   "outputs": [],
   "source": [
    "def check_even_list(num_list):\n",
    "    \n",
    "    for number in num_list:\n",
    "        if number % 2 ==0:\n",
    "            return True\n",
    "        else:\n",
    "            pass\n",
    "        \n",
    "    return False"
   ]
  },
  {
   "cell_type": "code",
   "execution_count": 29,
   "id": "89870740",
   "metadata": {},
   "outputs": [],
   "source": [
    "# Return all the even numbers in a List, if no even numbers return even list\n",
    "\n",
    "def check_for_even_numbers(num_list):\n",
    "\n",
    "    # Placeholder for variable\n",
    "    even_numbers = []\n",
    "\n",
    "    for number in num_list:\n",
    "        if number % 2 == 0:\n",
    "            even_numbers.append(number)\n",
    "        \n",
    "        else:\n",
    "            pass\n",
    "    \n",
    "    return even_numbers\n",
    "    "
   ]
  },
  {
   "cell_type": "code",
   "execution_count": 30,
   "id": "f5067a8f",
   "metadata": {},
   "outputs": [
    {
     "data": {
      "text/plain": [
       "True"
      ]
     },
     "execution_count": 30,
     "metadata": {},
     "output_type": "execute_result"
    }
   ],
   "source": [
    "check_even_list([1,2.3,4,5,6,8,9,20,21])"
   ]
  },
  {
   "cell_type": "markdown",
   "id": "3c6ba13f",
   "metadata": {},
   "source": [
    "<h2><b>Tuple Unpacking with Python Functions</h2></b>"
   ]
  },
  {
   "cell_type": "code",
   "execution_count": 31,
   "id": "fa41bec6",
   "metadata": {},
   "outputs": [
    {
     "name": "stdout",
     "output_type": "stream",
     "text": [
      "('APPL', 200)\n",
      "('GOOG', 400)\n",
      "('MSFT', 100)\n"
     ]
    }
   ],
   "source": [
    "# Unpacking a Tuple \n",
    "\n",
    "stock_prices = [('APPL',200), ('GOOG', 400), ('MSFT', 100)]\n",
    "\n",
    "for item in stock_prices:\n",
    "    print (item)"
   ]
  },
  {
   "cell_type": "code",
   "execution_count": 33,
   "id": "4342a313",
   "metadata": {},
   "outputs": [
    {
     "name": "stdout",
     "output_type": "stream",
     "text": [
      "220.0\n",
      "440.0\n",
      "110.0\n"
     ]
    }
   ],
   "source": [
    "#  Unpacking a Tuple with a FOR LOOP\n",
    "\n",
    "for (ticker, price) in stock_prices:\n",
    "    # Checking prices with a 10% increase\n",
    "    print(price + (0.1 * price))"
   ]
  },
  {
   "cell_type": "code",
   "execution_count": 40,
   "id": "a3c17a79",
   "metadata": {},
   "outputs": [],
   "source": [
    "# List of Tuple with Employees\n",
    "# Writing a funtion that can loop through names and hours\n",
    "\n",
    "\n",
    "work_hours = [('Abby', 100), ('Bily', 400), ('Cassie', 800)]\n",
    "\n",
    "def employee_check(work_hours):\n",
    "    \n",
    "    current_max = 0\n",
    "    employee_of_the_month = ''\n",
    "    \n",
    "    for (employee, hours) in work_hours:\n",
    "        if hours > current_max:\n",
    "            current_max = hours\n",
    "            employee_of_the_month = employee\n",
    "        else:\n",
    "            pass\n",
    "        \n",
    "    # Returning as a Tuple\n",
    "    return (employee_of_the_month, current_max)"
   ]
  },
  {
   "cell_type": "code",
   "execution_count": 42,
   "id": "bbf9d461",
   "metadata": {},
   "outputs": [],
   "source": [
    "result = employee_check(work_hours)"
   ]
  },
  {
   "cell_type": "code",
   "execution_count": 43,
   "id": "550beedb",
   "metadata": {},
   "outputs": [],
   "source": [
    "# Perfoming Tuple unpacking with a function call\n",
    "\n",
    "name, hours = employee_check(work_hours)"
   ]
  },
  {
   "cell_type": "code",
   "execution_count": 44,
   "id": "37007f22",
   "metadata": {},
   "outputs": [
    {
     "data": {
      "text/plain": [
       "'Cassie'"
      ]
     },
     "execution_count": 44,
     "metadata": {},
     "output_type": "execute_result"
    }
   ],
   "source": [
    "name"
   ]
  },
  {
   "cell_type": "code",
   "execution_count": 45,
   "id": "3b8f4481",
   "metadata": {},
   "outputs": [
    {
     "data": {
      "text/plain": [
       "800"
      ]
     },
     "execution_count": 45,
     "metadata": {},
     "output_type": "execute_result"
    }
   ],
   "source": [
    "hours"
   ]
  },
  {
   "cell_type": "markdown",
   "id": "b9263f46",
   "metadata": {},
   "source": [
    "<h2><b>Interactions between Python Functions</h2></b>"
   ]
  },
  {
   "cell_type": "code",
   "execution_count": 47,
   "id": "beebb383",
   "metadata": {},
   "outputs": [],
   "source": [
    "example = [1,2,3,4,5,6,7,8]\n",
    "\n",
    "from random import shuffle\n",
    "\n",
    "shuffle(example)"
   ]
  },
  {
   "cell_type": "code",
   "execution_count": 48,
   "id": "262755aa",
   "metadata": {},
   "outputs": [
    {
     "data": {
      "text/plain": [
       "[7, 1, 2, 6, 5, 4, 3, 8]"
      ]
     },
     "execution_count": 48,
     "metadata": {},
     "output_type": "execute_result"
    }
   ],
   "source": [
    "example"
   ]
  },
  {
   "cell_type": "code",
   "execution_count": 49,
   "id": "3ddc50d6",
   "metadata": {},
   "outputs": [],
   "source": [
    "def shuffle_list(mylist):\n",
    "    shuffle(mylist)\n",
    "    return mylist"
   ]
  },
  {
   "cell_type": "code",
   "execution_count": 50,
   "id": "cdb28ff6",
   "metadata": {},
   "outputs": [],
   "source": [
    "result = shuffle_list(example)"
   ]
  },
  {
   "cell_type": "code",
   "execution_count": 51,
   "id": "9f56c8fc",
   "metadata": {},
   "outputs": [
    {
     "data": {
      "text/plain": [
       "[7, 8, 5, 6, 2, 3, 4, 1]"
      ]
     },
     "execution_count": 51,
     "metadata": {},
     "output_type": "execute_result"
    }
   ],
   "source": [
    "result"
   ]
  },
  {
   "cell_type": "code",
   "execution_count": 52,
   "id": "54618c06",
   "metadata": {},
   "outputs": [],
   "source": [
    "# Creating a siplme game\n",
    "\n",
    "mylist = [' ', 'O', ' ']\n",
    "\n",
    "def shuffle_list(mylist):\n",
    "    # Take in list, and return shuffle versioned\n",
    "    shuffle(mylist)\n",
    "    \n",
    "    return mylist"
   ]
  },
  {
   "cell_type": "code",
   "execution_count": 53,
   "id": "c94a01ca",
   "metadata": {},
   "outputs": [
    {
     "data": {
      "text/plain": [
       "[' ', 'O', ' ']"
      ]
     },
     "execution_count": 53,
     "metadata": {},
     "output_type": "execute_result"
    }
   ],
   "source": [
    "mylist"
   ]
  },
  {
   "cell_type": "code",
   "execution_count": 54,
   "id": "a8dde699",
   "metadata": {},
   "outputs": [
    {
     "data": {
      "text/plain": [
       "['O', ' ', ' ']"
      ]
     },
     "execution_count": 54,
     "metadata": {},
     "output_type": "execute_result"
    }
   ],
   "source": [
    "shuffle_list(mylist)"
   ]
  },
  {
   "cell_type": "code",
   "execution_count": 56,
   "id": "4ab4bb0c",
   "metadata": {},
   "outputs": [],
   "source": [
    "def player_guess():\n",
    "    \n",
    "    guess = ''\n",
    "    \n",
    "    while guess not in ['0', '1', '2']:\n",
    "        \n",
    "        # Recall imput() ALWAYS will return a string\n",
    "        guess = input('Pick a number: 0, 1, or 2: ')\n",
    "        \n",
    "    return int(guess)"
   ]
  },
  {
   "cell_type": "code",
   "execution_count": 57,
   "id": "50d902e5",
   "metadata": {},
   "outputs": [
    {
     "name": "stdout",
     "output_type": "stream",
     "text": [
      "Pick a number: 0, 1, or 2: 1\n"
     ]
    },
    {
     "data": {
      "text/plain": [
       "1"
      ]
     },
     "execution_count": 57,
     "metadata": {},
     "output_type": "execute_result"
    }
   ],
   "source": [
    "player_guess()"
   ]
  },
  {
   "cell_type": "code",
   "execution_count": 58,
   "id": "1ab3f493",
   "metadata": {},
   "outputs": [],
   "source": [
    "# Now we will check the user's guess. Notice we only print here\n",
    "# since we have no need to save a user's guess or the shuffled list\n",
    "\n",
    "def check_guess(mylist, guess):\n",
    "    \n",
    "    if mylist[guess] == 'O':\n",
    "        print('Correct Guess!')\n",
    "        \n",
    "    else:\n",
    "        print('Wrong! Better luck next time')\n",
    "        print(mylist)"
   ]
  },
  {
   "cell_type": "markdown",
   "id": "ee4fbd4d",
   "metadata": {},
   "source": [
    "Now we create a little setup logic to run all the functions. Notice how they interact with each other!"
   ]
  },
  {
   "cell_type": "code",
   "execution_count": 60,
   "id": "ff5cc9c0",
   "metadata": {},
   "outputs": [
    {
     "name": "stdout",
     "output_type": "stream",
     "text": [
      "Pick a number: 0, 1, or 2: 1\n",
      "Correct Guess!\n"
     ]
    }
   ],
   "source": [
    "# Inital List \n",
    "mylist = [' ', 'O', ' ']\n",
    "\n",
    "# Shuffling the list\n",
    "mixedup_list = shuffle_list(mylist)\n",
    "\n",
    "# Get user's guess\n",
    "guess = player_guess()\n",
    "\n",
    "#  Check User's Guess\n",
    "#------------------------\n",
    "# Notice how this function takes in the input \n",
    "# based on the output of other functions!\n",
    "\n",
    "check_guess(mixedup_list, guess)"
   ]
  },
  {
   "cell_type": "markdown",
   "id": "eeea6c70",
   "metadata": {},
   "source": [
    "<h2><b>*args and **kwargsvin Python</h2></b>\n",
    "\n",
    "* <mark>*args:</mark> (Non-Keyword Arguments) in function definitions in python is used to pass a variable number of arguments to a function. It is used to pass a non-key worded, variable-length argument list. The syntax is to use the symbol * to take in a variable number of arguments; by convention, it is often used with the word args.\n",
    "* <mark>**kwargs: </mark>(Keyword Arguments) is used to pass a keyworded, variable-length argument list. We use the name kwargs with the double star. The reason is that the double star allows us to pass through keyword arguments (and any number of them)."
   ]
  },
  {
   "cell_type": "code",
   "execution_count": 63,
   "id": "a570c7be",
   "metadata": {},
   "outputs": [],
   "source": [
    "# Returning 5% of the sum if a and b\n",
    "# You can pass up to 5 positional arguament - incase user inputs more of the already define argument\n",
    "# We can set arguments to 0 to bypass without any erros, if user does not input more than two \n",
    "def myfunc(a, b, c = 0, d = 0, e = 0):\n",
    "    return sum((a,b)) * 0.05"
   ]
  },
  {
   "cell_type": "code",
   "execution_count": 64,
   "id": "9ddfa952",
   "metadata": {},
   "outputs": [
    {
     "data": {
      "text/plain": [
       "5.0"
      ]
     },
     "execution_count": 64,
     "metadata": {},
     "output_type": "execute_result"
    }
   ],
   "source": [
    "# Positional argument\n",
    "myfunc(40, 60)"
   ]
  },
  {
   "cell_type": "code",
   "execution_count": 65,
   "id": "48a585d7",
   "metadata": {},
   "outputs": [],
   "source": [
    "# When adding *args it allow you to input a parameters\n",
    "# Whenever the function sees \"*arg\" is going to pass the function as a Tuple and allow at many arguements\n",
    "def myfunc(*args):\n",
    "    return sum(args) * 0.05"
   ]
  },
  {
   "cell_type": "code",
   "execution_count": 66,
   "id": "b46ef509",
   "metadata": {},
   "outputs": [
    {
     "data": {
      "text/plain": [
       "19.3"
      ]
     },
     "execution_count": 66,
     "metadata": {},
     "output_type": "execute_result"
    }
   ],
   "source": [
    "myfunc(30,40,60,1,75,80,100)"
   ]
  },
  {
   "cell_type": "code",
   "execution_count": 67,
   "id": "89dc1927",
   "metadata": {},
   "outputs": [],
   "source": [
    "def myfunc(*args):\n",
    "    for item in args:\n",
    "        print(item)"
   ]
  },
  {
   "cell_type": "code",
   "execution_count": 68,
   "id": "005d2e42",
   "metadata": {},
   "outputs": [
    {
     "name": "stdout",
     "output_type": "stream",
     "text": [
      "30\n",
      "40\n",
      "60\n",
      "1\n",
      "75\n",
      "80\n",
      "100\n"
     ]
    }
   ],
   "source": [
    "myfunc(30,40,60,1,75,80,100)"
   ]
  },
  {
   "cell_type": "code",
   "execution_count": 73,
   "id": "a86269e6",
   "metadata": {},
   "outputs": [],
   "source": [
    "# **kwargs is a dictionary \n",
    "def myfunc(**kwargs):\n",
    "    if 'fruit' in kwargs:\n",
    "        print('My favorite fruit of choise is {}'.format(kwargs['fruit']))\n",
    "    else:\n",
    "        print('I did not find any freunt here.')"
   ]
  },
  {
   "cell_type": "code",
   "execution_count": 74,
   "id": "d00ad03c",
   "metadata": {},
   "outputs": [
    {
     "name": "stdout",
     "output_type": "stream",
     "text": [
      "My favorite fruit of choise is apple\n"
     ]
    }
   ],
   "source": [
    "myfunc(fruit = 'apple', veggie = 'lettuce')"
   ]
  },
  {
   "cell_type": "code",
   "execution_count": 82,
   "id": "7f13b106",
   "metadata": {},
   "outputs": [
    {
     "ename": "SyntaxError",
     "evalue": "invalid syntax (4200334334.py, line 5)",
     "output_type": "error",
     "traceback": [
      "\u001b[0;36m  Input \u001b[0;32mIn [82]\u001b[0;36m\u001b[0m\n\u001b[0;31m    print(f'I like and'.join(args) and 'my favorite fruit is {kwargs ['fruit']}'')\u001b[0m\n\u001b[0m                                                                       ^\u001b[0m\n\u001b[0;31mSyntaxError\u001b[0m\u001b[0;31m:\u001b[0m invalid syntax\n"
     ]
    }
   ],
   "source": [
    "# Combining both args and kwargs\n",
    "\n",
    "def myfunc(*arg, **kwargs):\n",
    "    if 'fruit' and 'juice' in kwargs:\n",
    "        print(f'I like and'.join(args) and 'my favorite fruit is {kwargs ['fruit']}'')\n",
    "    else:\n",
    "        pass"
   ]
  },
  {
   "cell_type": "code",
   "execution_count": 85,
   "id": "2332ad8f",
   "metadata": {},
   "outputs": [
    {
     "ename": "SyntaxError",
     "evalue": "invalid syntax (2568497791.py, line 2)",
     "output_type": "error",
     "traceback": [
      "\u001b[0;36m  Input \u001b[0;32mIn [85]\u001b[0;36m\u001b[0m\n\u001b[0;31m    print('I would like {}{}.format(args[0], kwargs['food']))\u001b[0m\n\u001b[0m                                                     ^\u001b[0m\n\u001b[0;31mSyntaxError\u001b[0m\u001b[0;31m:\u001b[0m invalid syntax\n"
     ]
    }
   ],
   "source": [
    "def myfunc(*args, **kwargs):\n",
    "    print('I would like {}{}.format(args[0], kwargs['food']))"
   ]
  },
  {
   "cell_type": "markdown",
   "id": "39d138fa",
   "metadata": {},
   "source": [
    "<h2><b>Lambda Expressions, Maps, and Filter Functions </h2></b>"
   ]
  },
  {
   "cell_type": "markdown",
   "id": "3d32199b",
   "metadata": {},
   "source": [
    "* <mark>Map:</mark> is a built-in function that allows you to process and transform all the items in an iterable without using an explicit for loop, a technique commonly known as mapping. map() is useful when you need to apply a transformation function to each item in an iterable and transform them into a new iterable.\n",
    "* <mark>"
   ]
  },
  {
   "cell_type": "code",
   "execution_count": 1,
   "id": "d70d2e49",
   "metadata": {},
   "outputs": [],
   "source": [
    "def square(num):\n",
    "    return num ** 2"
   ]
  },
  {
   "cell_type": "code",
   "execution_count": 2,
   "id": "ad21d215",
   "metadata": {},
   "outputs": [],
   "source": [
    "my_nums = [1, 2, 3, 4, 5]"
   ]
  },
  {
   "cell_type": "code",
   "execution_count": 3,
   "id": "22bc13d7",
   "metadata": {},
   "outputs": [
    {
     "name": "stdout",
     "output_type": "stream",
     "text": [
      "1\n",
      "4\n",
      "9\n",
      "16\n",
      "25\n"
     ]
    }
   ],
   "source": [
    "for item in map(square, my_nums):\n",
    "    print(item)"
   ]
  },
  {
   "cell_type": "code",
   "execution_count": 5,
   "id": "fce76d29",
   "metadata": {},
   "outputs": [
    {
     "data": {
      "text/plain": [
       "[1, 4, 9, 16, 25]"
      ]
     },
     "execution_count": 5,
     "metadata": {},
     "output_type": "execute_result"
    }
   ],
   "source": [
    "# If you want the list funcion back \n",
    "list(map(square, my_nums))"
   ]
  },
  {
   "cell_type": "code",
   "execution_count": 10,
   "id": "bb813c22",
   "metadata": {},
   "outputs": [],
   "source": [
    "# For strings\n",
    "def splicer (mystring):\n",
    "    \n",
    "    if len(mystring) % 2 == 0:\n",
    "        return 'EVEN'\n",
    "    else:\n",
    "        return mystring[0]\n",
    "    "
   ]
  },
  {
   "cell_type": "markdown",
   "id": "2e453a40",
   "metadata": {},
   "source": []
  },
  {
   "cell_type": "code",
   "execution_count": null,
   "id": "d0588f83",
   "metadata": {},
   "outputs": [],
   "source": []
  }
 ],
 "metadata": {
  "kernelspec": {
   "display_name": "Python 3 (ipykernel)",
   "language": "python",
   "name": "python3"
  },
  "language_info": {
   "codemirror_mode": {
    "name": "ipython",
    "version": 3
   },
   "file_extension": ".py",
   "mimetype": "text/x-python",
   "name": "python",
   "nbconvert_exporter": "python",
   "pygments_lexer": "ipython3",
   "version": "3.9.12"
  }
 },
 "nbformat": 4,
 "nbformat_minor": 5
}
