{
 "cells": [
  {
   "cell_type": "markdown",
   "id": "e92c66fb",
   "metadata": {},
   "source": [
    "### Review on Opening and Reading Files"
   ]
  },
  {
   "cell_type": "code",
   "execution_count": 2,
   "id": "af9003c6",
   "metadata": {},
   "outputs": [],
   "source": [
    "# File Path \n",
    "# pwd "
   ]
  },
  {
   "cell_type": "code",
   "execution_count": 3,
   "id": "c6d380b2",
   "metadata": {},
   "outputs": [],
   "source": [
    "# Creating a File \n",
    "f = open('pactice.txt', 'w+')\n",
    "f.write('This is a test string for the file.')\n",
    "f.close()"
   ]
  },
  {
   "cell_type": "markdown",
   "id": "ff56dc7c",
   "metadata": {},
   "source": [
    "### OS Module\n",
    "\n",
    "The OS module in Python provides functions for interacting with the operating system. OS comes under Python's standard utility modules. This module provides a portable way of using operating system-dependent functionality."
   ]
  },
  {
   "cell_type": "code",
   "execution_count": 3,
   "id": "88f987f0",
   "metadata": {},
   "outputs": [
    {
     "data": {
      "text/plain": [
       "'/Users/graceart/Desktop/pythonTools/Complete-Python-Bootcamp-Udemy/Advanced Python Modules '"
      ]
     },
     "execution_count": 3,
     "metadata": {},
     "output_type": "execute_result"
    }
   ],
   "source": [
    "import os\n",
    "\n",
    "# Getting the current working directory \n",
    "os.getcwd()"
   ]
  },
  {
   "cell_type": "code",
   "execution_count": 8,
   "id": "f6428e40",
   "metadata": {},
   "outputs": [
    {
     "data": {
      "text/plain": [
       "['Python Collections Module.ipynb',\n",
       " 'Opening and Reading Files and Folders (Python OS Module).ipynb',\n",
       " '.ipynb_checkpoints',\n",
       " 'pactice.txt']"
      ]
     },
     "execution_count": 8,
     "metadata": {},
     "output_type": "execute_result"
    }
   ],
   "source": [
    "# Listing all the items in directory\n",
    "# By default it will show all items in the current working directory\n",
    "os.listdir()"
   ]
  },
  {
   "cell_type": "markdown",
   "id": "b23ee041",
   "metadata": {},
   "source": [
    "### shutil\n",
    "\n",
    "Shutil module in Python provides many functions of high-level operations on files and collections of files. It comes under Python's standard utility modules. This module helps in automating process of copying and removal of files and directories"
   ]
  },
  {
   "cell_type": "code",
   "execution_count": 8,
   "id": "3bd70ecc",
   "metadata": {},
   "outputs": [
    {
     "ename": "FileNotFoundError",
     "evalue": "[Errno 2] No such file or directory: 'practice.txt'",
     "output_type": "error",
     "traceback": [
      "\u001b[0;31m---------------------------------------------------------------------------\u001b[0m",
      "\u001b[0;31mFileNotFoundError\u001b[0m                         Traceback (most recent call last)",
      "File \u001b[0;32m/opt/anaconda3/lib/python3.9/shutil.py:823\u001b[0m, in \u001b[0;36mmove\u001b[0;34m(src, dst, copy_function)\u001b[0m\n\u001b[1;32m    822\u001b[0m \u001b[38;5;28;01mtry\u001b[39;00m:\n\u001b[0;32m--> 823\u001b[0m     \u001b[43mos\u001b[49m\u001b[38;5;241;43m.\u001b[39;49m\u001b[43mrename\u001b[49m\u001b[43m(\u001b[49m\u001b[43msrc\u001b[49m\u001b[43m,\u001b[49m\u001b[43m \u001b[49m\u001b[43mreal_dst\u001b[49m\u001b[43m)\u001b[49m\n\u001b[1;32m    824\u001b[0m \u001b[38;5;28;01mexcept\u001b[39;00m \u001b[38;5;167;01mOSError\u001b[39;00m:\n",
      "\u001b[0;31mFileNotFoundError\u001b[0m: [Errno 2] No such file or directory: 'practice.txt' -> '/Users/graceart/Desktop/practice.txt'",
      "\nDuring handling of the above exception, another exception occurred:\n",
      "\u001b[0;31mFileNotFoundError\u001b[0m                         Traceback (most recent call last)",
      "Input \u001b[0;32mIn [8]\u001b[0m, in \u001b[0;36m<cell line: 4>\u001b[0;34m()\u001b[0m\n\u001b[1;32m      1\u001b[0m \u001b[38;5;28;01mimport\u001b[39;00m \u001b[38;5;21;01mshutil\u001b[39;00m\n\u001b[1;32m      3\u001b[0m \u001b[38;5;66;03m# Moving practice file that was open earlier in notes \u001b[39;00m\n\u001b[0;32m----> 4\u001b[0m \u001b[43mshutil\u001b[49m\u001b[38;5;241;43m.\u001b[39;49m\u001b[43mmove\u001b[49m\u001b[43m(\u001b[49m\u001b[38;5;124;43m'\u001b[39;49m\u001b[38;5;124;43mpractice.txt\u001b[39;49m\u001b[38;5;124;43m'\u001b[39;49m\u001b[43m,\u001b[49m\u001b[43m \u001b[49m\u001b[38;5;124;43m'\u001b[39;49m\u001b[38;5;124;43m/Users/graceart/Desktop/\u001b[39;49m\u001b[38;5;124;43m'\u001b[39;49m\u001b[43m)\u001b[49m\n",
      "File \u001b[0;32m/opt/anaconda3/lib/python3.9/shutil.py:843\u001b[0m, in \u001b[0;36mmove\u001b[0;34m(src, dst, copy_function)\u001b[0m\n\u001b[1;32m    841\u001b[0m         rmtree(src)\n\u001b[1;32m    842\u001b[0m     \u001b[38;5;28;01melse\u001b[39;00m:\n\u001b[0;32m--> 843\u001b[0m         \u001b[43mcopy_function\u001b[49m\u001b[43m(\u001b[49m\u001b[43msrc\u001b[49m\u001b[43m,\u001b[49m\u001b[43m \u001b[49m\u001b[43mreal_dst\u001b[49m\u001b[43m)\u001b[49m\n\u001b[1;32m    844\u001b[0m         os\u001b[38;5;241m.\u001b[39munlink(src)\n\u001b[1;32m    845\u001b[0m \u001b[38;5;28;01mreturn\u001b[39;00m real_dst\n",
      "File \u001b[0;32m/opt/anaconda3/lib/python3.9/shutil.py:444\u001b[0m, in \u001b[0;36mcopy2\u001b[0;34m(src, dst, follow_symlinks)\u001b[0m\n\u001b[1;32m    442\u001b[0m \u001b[38;5;28;01mif\u001b[39;00m os\u001b[38;5;241m.\u001b[39mpath\u001b[38;5;241m.\u001b[39misdir(dst):\n\u001b[1;32m    443\u001b[0m     dst \u001b[38;5;241m=\u001b[39m os\u001b[38;5;241m.\u001b[39mpath\u001b[38;5;241m.\u001b[39mjoin(dst, os\u001b[38;5;241m.\u001b[39mpath\u001b[38;5;241m.\u001b[39mbasename(src))\n\u001b[0;32m--> 444\u001b[0m \u001b[43mcopyfile\u001b[49m\u001b[43m(\u001b[49m\u001b[43msrc\u001b[49m\u001b[43m,\u001b[49m\u001b[43m \u001b[49m\u001b[43mdst\u001b[49m\u001b[43m,\u001b[49m\u001b[43m \u001b[49m\u001b[43mfollow_symlinks\u001b[49m\u001b[38;5;241;43m=\u001b[39;49m\u001b[43mfollow_symlinks\u001b[49m\u001b[43m)\u001b[49m\n\u001b[1;32m    445\u001b[0m copystat(src, dst, follow_symlinks\u001b[38;5;241m=\u001b[39mfollow_symlinks)\n\u001b[1;32m    446\u001b[0m \u001b[38;5;28;01mreturn\u001b[39;00m dst\n",
      "File \u001b[0;32m/opt/anaconda3/lib/python3.9/shutil.py:264\u001b[0m, in \u001b[0;36mcopyfile\u001b[0;34m(src, dst, follow_symlinks)\u001b[0m\n\u001b[1;32m    262\u001b[0m     os\u001b[38;5;241m.\u001b[39msymlink(os\u001b[38;5;241m.\u001b[39mreadlink(src), dst)\n\u001b[1;32m    263\u001b[0m \u001b[38;5;28;01melse\u001b[39;00m:\n\u001b[0;32m--> 264\u001b[0m     \u001b[38;5;28;01mwith\u001b[39;00m \u001b[38;5;28;43mopen\u001b[39;49m\u001b[43m(\u001b[49m\u001b[43msrc\u001b[49m\u001b[43m,\u001b[49m\u001b[43m \u001b[49m\u001b[38;5;124;43m'\u001b[39;49m\u001b[38;5;124;43mrb\u001b[39;49m\u001b[38;5;124;43m'\u001b[39;49m\u001b[43m)\u001b[49m \u001b[38;5;28;01mas\u001b[39;00m fsrc:\n\u001b[1;32m    265\u001b[0m         \u001b[38;5;28;01mtry\u001b[39;00m:\n\u001b[1;32m    266\u001b[0m             \u001b[38;5;28;01mwith\u001b[39;00m \u001b[38;5;28mopen\u001b[39m(dst, \u001b[38;5;124m'\u001b[39m\u001b[38;5;124mwb\u001b[39m\u001b[38;5;124m'\u001b[39m) \u001b[38;5;28;01mas\u001b[39;00m fdst:\n\u001b[1;32m    267\u001b[0m                 \u001b[38;5;66;03m# macOS\u001b[39;00m\n",
      "\u001b[0;31mFileNotFoundError\u001b[0m: [Errno 2] No such file or directory: 'practice.txt'"
     ]
    }
   ],
   "source": [
    "import shutil\n",
    "\n",
    "# Moving practice file that was open earlier in notes \n",
    "shutil.move('practice.txt', '/Users/graceart/Desktop/')"
   ]
  },
  {
   "cell_type": "markdown",
   "id": "e49cc0f7",
   "metadata": {},
   "source": [
    "### send2trash \n",
    "\n",
    "Using send2trash, we can send files to the Trash or Recycle Bin instead of permanently deleting them. The OS module’s unlink(), remove() and rmdir() functions can be used to delete files or folders. But, these functions delete the files permanently. The operations cannot be undone if there were any accidental deletions performed. This can be prevented using send2trash.\n",
    "\n",
    "#### Modules required\n",
    "OS : The OS module in Python provides functions for interacting with the operating system. OS module comes with Python’s Standard Library.\n",
    "send2trash : Send2Trash is a small package that sends files to the Trash (or Recycle Bin) natively and on all platforms. To install it type the below command in the terminal.\n",
    "\n",
    "<mark>pip install send2trash</mark>\n",
    "\n",
    "##### Syntanx\n",
    "\n",
    "import send2trash\n",
    "  \n",
    "send2trash.send2trash(\"/location/to/file\")"
   ]
  },
  {
   "cell_type": "code",
   "execution_count": 7,
   "id": "dce867a0",
   "metadata": {},
   "outputs": [
    {
     "data": {
      "text/plain": [
       "['Python Collections Module.ipynb',\n",
       " 'Opening and Reading Files and Folders (Python OS Module).ipynb',\n",
       " '.ipynb_checkpoints',\n",
       " 'pactice.txt']"
      ]
     },
     "execution_count": 7,
     "metadata": {},
     "output_type": "execute_result"
    }
   ],
   "source": [
    "# Method in python is used to get the list of all files and directories in the specified directory. \n",
    "# If we don’t specify any directory, then list of files and directories in the current working \n",
    "# directory will be returned.\n",
    "os.listdir()"
   ]
  },
  {
   "cell_type": "markdown",
   "id": "aee3aed7",
   "metadata": {},
   "source": [
    "### os.walk \n",
    "\n",
    "is for Deleting specific files in a directory. Function to walk through a directory and delete specific files."
   ]
  },
  {
   "cell_type": "code",
   "execution_count": 10,
   "id": "efdd846c",
   "metadata": {},
   "outputs": [
    {
     "ename": "SyntaxError",
     "evalue": "invalid syntax (66927528.py, line 6)",
     "output_type": "error",
     "traceback": [
      "\u001b[0;36m  Input \u001b[0;32mIn [10]\u001b[0;36m\u001b[0m\n\u001b[0;31m    for folder, sub_folders, files in os.walk(filePath)\u001b[0m\n\u001b[0m                                                       ^\u001b[0m\n\u001b[0;31mSyntaxError\u001b[0m\u001b[0;31m:\u001b[0m invalid syntax\n"
     ]
    }
   ],
   "source": [
    "# os.walk yields a Tuple\n",
    "# Example: Creating a tree to look for folders within folders\n",
    "\n",
    "filePath = '/Users/graceart/Desktop/pythonTools/Complete-Python-Bootcamp-Udemy/Advanced Python Modules'\n",
    "\n",
    "for folder, sub_folders, files in os.walk(filePath)\n",
    "\n",
    "print(f'Currently looking at {folder}')\n",
    "print('\\n')\n",
    "print('The subfolders are: ')\n",
    "for sub_fold in sub_folders:\n",
    "    print(f'\\t Subfolder: {sub_fold}')\n",
    "    \n",
    "    print('\\')\n",
    "    print('The files are: ')\n",
    "    for f in files:\n",
    "          print(f'\\t File: {f}')\n",
    "    print('\\n')"
   ]
  }
 ],
 "metadata": {
  "kernelspec": {
   "display_name": "Python 3 (ipykernel)",
   "language": "python",
   "name": "python3"
  },
  "language_info": {
   "codemirror_mode": {
    "name": "ipython",
    "version": 3
   },
   "file_extension": ".py",
   "mimetype": "text/x-python",
   "name": "python",
   "nbconvert_exporter": "python",
   "pygments_lexer": "ipython3",
   "version": "3.9.12"
  }
 },
 "nbformat": 4,
 "nbformat_minor": 5
}
