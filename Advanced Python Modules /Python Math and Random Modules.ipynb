{
 "cells": [
  {
   "cell_type": "markdown",
   "id": "2fbfcf6b",
   "metadata": {},
   "source": [
    "### Math Module \n",
    "This module provides access to the mathematical functions defined by the C standard.\n",
    "\n",
    "These functions cannot be used with complex numbers; use the functions of the same name from the <mark>cmath</mark> module if you require support for complex numbers. The distinction between functions which support complex numbers and those which don’t is made since most users do not want to learn quite as much mathematics as required to understand complex numbers. Receiving an exception instead of a complex result allows earlier detection of the unexpected complex number used as a parameter, so that the programmer can determine how and why it was generated in the first place.\n",
    "\n",
    "* [Math Module](https://docs.python.org/3/library/math.html)"
   ]
  },
  {
   "cell_type": "code",
   "execution_count": 1,
   "id": "b71806cf",
   "metadata": {},
   "outputs": [],
   "source": [
    "import math"
   ]
  },
  {
   "cell_type": "code",
   "execution_count": 2,
   "id": "0fabb636",
   "metadata": {},
   "outputs": [
    {
     "name": "stdout",
     "output_type": "stream",
     "text": [
      "Help on module math:\n",
      "\n",
      "NAME\n",
      "    math\n",
      "\n",
      "MODULE REFERENCE\n",
      "    https://docs.python.org/3.9/library/math\n",
      "    \n",
      "    The following documentation is automatically generated from the Python\n",
      "    source files.  It may be incomplete, incorrect or include features that\n",
      "    are considered implementation detail and may vary between Python\n",
      "    implementations.  When in doubt, consult the module reference at the\n",
      "    location listed above.\n",
      "\n",
      "DESCRIPTION\n",
      "    This module provides access to the mathematical functions\n",
      "    defined by the C standard.\n",
      "\n",
      "FUNCTIONS\n",
      "    acos(x, /)\n",
      "        Return the arc cosine (measured in radians) of x.\n",
      "        \n",
      "        The result is between 0 and pi.\n",
      "    \n",
      "    acosh(x, /)\n",
      "        Return the inverse hyperbolic cosine of x.\n",
      "    \n",
      "    asin(x, /)\n",
      "        Return the arc sine (measured in radians) of x.\n",
      "        \n",
      "        The result is between -pi/2 and pi/2.\n",
      "    \n",
      "    asinh(x, /)\n",
      "        Return the inverse hyperbolic sine of x.\n",
      "    \n",
      "    atan(x, /)\n",
      "        Return the arc tangent (measured in radians) of x.\n",
      "        \n",
      "        The result is between -pi/2 and pi/2.\n",
      "    \n",
      "    atan2(y, x, /)\n",
      "        Return the arc tangent (measured in radians) of y/x.\n",
      "        \n",
      "        Unlike atan(y/x), the signs of both x and y are considered.\n",
      "    \n",
      "    atanh(x, /)\n",
      "        Return the inverse hyperbolic tangent of x.\n",
      "    \n",
      "    ceil(x, /)\n",
      "        Return the ceiling of x as an Integral.\n",
      "        \n",
      "        This is the smallest integer >= x.\n",
      "    \n",
      "    comb(n, k, /)\n",
      "        Number of ways to choose k items from n items without repetition and without order.\n",
      "        \n",
      "        Evaluates to n! / (k! * (n - k)!) when k <= n and evaluates\n",
      "        to zero when k > n.\n",
      "        \n",
      "        Also called the binomial coefficient because it is equivalent\n",
      "        to the coefficient of k-th term in polynomial expansion of the\n",
      "        expression (1 + x)**n.\n",
      "        \n",
      "        Raises TypeError if either of the arguments are not integers.\n",
      "        Raises ValueError if either of the arguments are negative.\n",
      "    \n",
      "    copysign(x, y, /)\n",
      "        Return a float with the magnitude (absolute value) of x but the sign of y.\n",
      "        \n",
      "        On platforms that support signed zeros, copysign(1.0, -0.0)\n",
      "        returns -1.0.\n",
      "    \n",
      "    cos(x, /)\n",
      "        Return the cosine of x (measured in radians).\n",
      "    \n",
      "    cosh(x, /)\n",
      "        Return the hyperbolic cosine of x.\n",
      "    \n",
      "    degrees(x, /)\n",
      "        Convert angle x from radians to degrees.\n",
      "    \n",
      "    dist(p, q, /)\n",
      "        Return the Euclidean distance between two points p and q.\n",
      "        \n",
      "        The points should be specified as sequences (or iterables) of\n",
      "        coordinates.  Both inputs must have the same dimension.\n",
      "        \n",
      "        Roughly equivalent to:\n",
      "            sqrt(sum((px - qx) ** 2.0 for px, qx in zip(p, q)))\n",
      "    \n",
      "    erf(x, /)\n",
      "        Error function at x.\n",
      "    \n",
      "    erfc(x, /)\n",
      "        Complementary error function at x.\n",
      "    \n",
      "    exp(x, /)\n",
      "        Return e raised to the power of x.\n",
      "    \n",
      "    expm1(x, /)\n",
      "        Return exp(x)-1.\n",
      "        \n",
      "        This function avoids the loss of precision involved in the direct evaluation of exp(x)-1 for small x.\n",
      "    \n",
      "    fabs(x, /)\n",
      "        Return the absolute value of the float x.\n",
      "    \n",
      "    factorial(x, /)\n",
      "        Find x!.\n",
      "        \n",
      "        Raise a ValueError if x is negative or non-integral.\n",
      "    \n",
      "    floor(x, /)\n",
      "        Return the floor of x as an Integral.\n",
      "        \n",
      "        This is the largest integer <= x.\n",
      "    \n",
      "    fmod(x, y, /)\n",
      "        Return fmod(x, y), according to platform C.\n",
      "        \n",
      "        x % y may differ.\n",
      "    \n",
      "    frexp(x, /)\n",
      "        Return the mantissa and exponent of x, as pair (m, e).\n",
      "        \n",
      "        m is a float and e is an int, such that x = m * 2.**e.\n",
      "        If x is 0, m and e are both 0.  Else 0.5 <= abs(m) < 1.0.\n",
      "    \n",
      "    fsum(seq, /)\n",
      "        Return an accurate floating point sum of values in the iterable seq.\n",
      "        \n",
      "        Assumes IEEE-754 floating point arithmetic.\n",
      "    \n",
      "    gamma(x, /)\n",
      "        Gamma function at x.\n",
      "    \n",
      "    gcd(*integers)\n",
      "        Greatest Common Divisor.\n",
      "    \n",
      "    hypot(...)\n",
      "        hypot(*coordinates) -> value\n",
      "        \n",
      "        Multidimensional Euclidean distance from the origin to a point.\n",
      "        \n",
      "        Roughly equivalent to:\n",
      "            sqrt(sum(x**2 for x in coordinates))\n",
      "        \n",
      "        For a two dimensional point (x, y), gives the hypotenuse\n",
      "        using the Pythagorean theorem:  sqrt(x*x + y*y).\n",
      "        \n",
      "        For example, the hypotenuse of a 3/4/5 right triangle is:\n",
      "        \n",
      "            >>> hypot(3.0, 4.0)\n",
      "            5.0\n",
      "    \n",
      "    isclose(a, b, *, rel_tol=1e-09, abs_tol=0.0)\n",
      "        Determine whether two floating point numbers are close in value.\n",
      "        \n",
      "          rel_tol\n",
      "            maximum difference for being considered \"close\", relative to the\n",
      "            magnitude of the input values\n",
      "          abs_tol\n",
      "            maximum difference for being considered \"close\", regardless of the\n",
      "            magnitude of the input values\n",
      "        \n",
      "        Return True if a is close in value to b, and False otherwise.\n",
      "        \n",
      "        For the values to be considered close, the difference between them\n",
      "        must be smaller than at least one of the tolerances.\n",
      "        \n",
      "        -inf, inf and NaN behave similarly to the IEEE 754 Standard.  That\n",
      "        is, NaN is not close to anything, even itself.  inf and -inf are\n",
      "        only close to themselves.\n",
      "    \n",
      "    isfinite(x, /)\n",
      "        Return True if x is neither an infinity nor a NaN, and False otherwise.\n",
      "    \n",
      "    isinf(x, /)\n",
      "        Return True if x is a positive or negative infinity, and False otherwise.\n",
      "    \n",
      "    isnan(x, /)\n",
      "        Return True if x is a NaN (not a number), and False otherwise.\n",
      "    \n",
      "    isqrt(n, /)\n",
      "        Return the integer part of the square root of the input.\n",
      "    \n",
      "    lcm(*integers)\n",
      "        Least Common Multiple.\n",
      "    \n",
      "    ldexp(x, i, /)\n",
      "        Return x * (2**i).\n",
      "        \n",
      "        This is essentially the inverse of frexp().\n",
      "    \n",
      "    lgamma(x, /)\n",
      "        Natural logarithm of absolute value of Gamma function at x.\n",
      "    \n",
      "    log(...)\n",
      "        log(x, [base=math.e])\n",
      "        Return the logarithm of x to the given base.\n",
      "        \n",
      "        If the base not specified, returns the natural logarithm (base e) of x.\n",
      "    \n",
      "    log10(x, /)\n",
      "        Return the base 10 logarithm of x.\n",
      "    \n",
      "    log1p(x, /)\n",
      "        Return the natural logarithm of 1+x (base e).\n",
      "        \n",
      "        The result is computed in a way which is accurate for x near zero.\n",
      "    \n",
      "    log2(x, /)\n",
      "        Return the base 2 logarithm of x.\n",
      "    \n",
      "    modf(x, /)\n",
      "        Return the fractional and integer parts of x.\n",
      "        \n",
      "        Both results carry the sign of x and are floats.\n",
      "    \n",
      "    nextafter(x, y, /)\n",
      "        Return the next floating-point value after x towards y.\n",
      "    \n",
      "    perm(n, k=None, /)\n",
      "        Number of ways to choose k items from n items without repetition and with order.\n",
      "        \n",
      "        Evaluates to n! / (n - k)! when k <= n and evaluates\n",
      "        to zero when k > n.\n",
      "        \n",
      "        If k is not specified or is None, then k defaults to n\n",
      "        and the function returns n!.\n",
      "        \n",
      "        Raises TypeError if either of the arguments are not integers.\n",
      "        Raises ValueError if either of the arguments are negative.\n",
      "    \n",
      "    pow(x, y, /)\n",
      "        Return x**y (x to the power of y).\n",
      "    \n",
      "    prod(iterable, /, *, start=1)\n",
      "        Calculate the product of all the elements in the input iterable.\n",
      "        \n",
      "        The default start value for the product is 1.\n",
      "        \n",
      "        When the iterable is empty, return the start value.  This function is\n",
      "        intended specifically for use with numeric values and may reject\n",
      "        non-numeric types.\n",
      "    \n",
      "    radians(x, /)\n",
      "        Convert angle x from degrees to radians.\n",
      "    \n",
      "    remainder(x, y, /)\n",
      "        Difference between x and the closest integer multiple of y.\n",
      "        \n",
      "        Return x - n*y where n*y is the closest integer multiple of y.\n",
      "        In the case where x is exactly halfway between two multiples of\n",
      "        y, the nearest even value of n is used. The result is always exact.\n",
      "    \n",
      "    sin(x, /)\n",
      "        Return the sine of x (measured in radians).\n",
      "    \n",
      "    sinh(x, /)\n",
      "        Return the hyperbolic sine of x.\n",
      "    \n",
      "    sqrt(x, /)\n",
      "        Return the square root of x.\n",
      "    \n",
      "    tan(x, /)\n",
      "        Return the tangent of x (measured in radians).\n",
      "    \n",
      "    tanh(x, /)\n",
      "        Return the hyperbolic tangent of x.\n",
      "    \n",
      "    trunc(x, /)\n",
      "        Truncates the Real x to the nearest Integral toward 0.\n",
      "        \n",
      "        Uses the __trunc__ magic method.\n",
      "    \n",
      "    ulp(x, /)\n",
      "        Return the value of the least significant bit of the float x.\n",
      "\n",
      "DATA\n",
      "    e = 2.718281828459045\n",
      "    inf = inf\n",
      "    nan = nan\n",
      "    pi = 3.141592653589793\n",
      "    tau = 6.283185307179586\n",
      "\n",
      "FILE\n",
      "    /opt/anaconda3/lib/python3.9/lib-dynload/math.cpython-39-darwin.so\n",
      "\n",
      "\n"
     ]
    }
   ],
   "source": [
    "help(math)"
   ]
  },
  {
   "cell_type": "code",
   "execution_count": 4,
   "id": "ebfe62cf",
   "metadata": {},
   "outputs": [
    {
     "data": {
      "text/plain": [
       "4"
      ]
     },
     "execution_count": 4,
     "metadata": {},
     "output_type": "execute_result"
    }
   ],
   "source": [
    "# Example: Rouding up values of numbers \n",
    "\n",
    "value = 4.35\n",
    "\n",
    "# Floor is going bring it down to the value that is less than or equal to the value\n",
    "math.floor(value)"
   ]
  },
  {
   "cell_type": "code",
   "execution_count": 5,
   "id": "08d531bd",
   "metadata": {},
   "outputs": [
    {
     "data": {
      "text/plain": [
       "5"
      ]
     },
     "execution_count": 5,
     "metadata": {},
     "output_type": "execute_result"
    }
   ],
   "source": [
    "# Ceiling essentially works like floor, but we get the next interget up\n",
    "\n",
    "math.ceil(value)"
   ]
  },
  {
   "cell_type": "code",
   "execution_count": 6,
   "id": "9da00d2a",
   "metadata": {},
   "outputs": [
    {
     "data": {
      "text/plain": [
       "4"
      ]
     },
     "execution_count": 6,
     "metadata": {},
     "output_type": "execute_result"
    }
   ],
   "source": [
    "# If you just wanted to roung the value\n",
    "\n",
    "round(value)"
   ]
  },
  {
   "cell_type": "markdown",
   "id": "df74700a",
   "metadata": {},
   "source": [
    "#### Using Pi"
   ]
  },
  {
   "cell_type": "code",
   "execution_count": 9,
   "id": "c1d0aae1",
   "metadata": {},
   "outputs": [],
   "source": [
    "from math import pi"
   ]
  },
  {
   "cell_type": "code",
   "execution_count": 10,
   "id": "8ebd2dee",
   "metadata": {},
   "outputs": [
    {
     "data": {
      "text/plain": [
       "3.141592653589793"
      ]
     },
     "execution_count": 10,
     "metadata": {},
     "output_type": "execute_result"
    }
   ],
   "source": [
    "pi"
   ]
  },
  {
   "cell_type": "code",
   "execution_count": 13,
   "id": "8fcdef65",
   "metadata": {},
   "outputs": [
    {
     "data": {
      "text/plain": [
       "3.141592653589793"
      ]
     },
     "execution_count": 13,
     "metadata": {},
     "output_type": "execute_result"
    }
   ],
   "source": [
    "# OR \n",
    "math.pi"
   ]
  },
  {
   "cell_type": "markdown",
   "id": "76ab64b9",
   "metadata": {},
   "source": [
    "If checking out numbers with infinity values or NONE numbers check out the <mark>Numpy</mark> library. Numpy goes much deeper than the Math Module.\n",
    "\n",
    "EX: math.inf ---> for infinity numbers\n",
    "EX: math.nan ---> for non numbers"
   ]
  },
  {
   "cell_type": "markdown",
   "id": "277e9131",
   "metadata": {},
   "source": [
    "### Logarithmic Values "
   ]
  },
  {
   "cell_type": "code",
   "execution_count": 15,
   "id": "96100068",
   "metadata": {},
   "outputs": [
    {
     "data": {
      "text/plain": [
       "2.718281828459045"
      ]
     },
     "execution_count": 15,
     "metadata": {},
     "output_type": "execute_result"
    }
   ],
   "source": [
    "math.e"
   ]
  },
  {
   "cell_type": "code",
   "execution_count": 16,
   "id": "851cd84e",
   "metadata": {},
   "outputs": [
    {
     "data": {
      "text/plain": [
       "1.0"
      ]
     },
     "execution_count": 16,
     "metadata": {},
     "output_type": "execute_result"
    }
   ],
   "source": [
    "# Log base e\n",
    "math.log(math.e)"
   ]
  },
  {
   "cell_type": "code",
   "execution_count": 17,
   "id": "f98bc1b8",
   "metadata": {},
   "outputs": [
    {
     "data": {
      "text/plain": [
       "2.0"
      ]
     },
     "execution_count": 17,
     "metadata": {},
     "output_type": "execute_result"
    }
   ],
   "source": [
    "math.log(100, 10)"
   ]
  },
  {
   "cell_type": "code",
   "execution_count": 18,
   "id": "6df4aae8",
   "metadata": {},
   "outputs": [
    {
     "data": {
      "text/plain": [
       "100"
      ]
     },
     "execution_count": 18,
     "metadata": {},
     "output_type": "execute_result"
    }
   ],
   "source": [
    "10 ** 2"
   ]
  },
  {
   "cell_type": "markdown",
   "id": "884a603f",
   "metadata": {},
   "source": [
    "### Trigonometic Functions"
   ]
  },
  {
   "cell_type": "code",
   "execution_count": 20,
   "id": "40fcd1e1",
   "metadata": {},
   "outputs": [
    {
     "data": {
      "text/plain": [
       "-0.5440211108893699"
      ]
     },
     "execution_count": 20,
     "metadata": {},
     "output_type": "execute_result"
    }
   ],
   "source": [
    "# Sin return in Radians\n",
    "math.sin(10)"
   ]
  },
  {
   "cell_type": "code",
   "execution_count": 23,
   "id": "25800a28",
   "metadata": {},
   "outputs": [
    {
     "data": {
      "text/plain": [
       "90.0"
      ]
     },
     "execution_count": 23,
     "metadata": {},
     "output_type": "execute_result"
    }
   ],
   "source": [
    "# Returning in degrees\n",
    "math.degrees (pi / 2)"
   ]
  },
  {
   "cell_type": "code",
   "execution_count": 24,
   "id": "fb2ab88e",
   "metadata": {},
   "outputs": [
    {
     "data": {
      "text/plain": [
       "3.141592653589793"
      ]
     },
     "execution_count": 24,
     "metadata": {},
     "output_type": "execute_result"
    }
   ],
   "source": [
    "# Returning Radians\n",
    "math.radians(180)"
   ]
  },
  {
   "cell_type": "markdown",
   "id": "1ddf58ac",
   "metadata": {},
   "source": [
    "### Random Module\n",
    "This module implements pseudo-random number generators for various distributions.\n",
    "\n",
    "For integers, there is uniform selection from a range. For sequences, there is uniform selection of a random element, a function to generate a random permutation of a list in-place, and a function for random sampling without replacement. \n",
    "\n",
    "* [Random Module](https://docs.python.org/3/library/random.html)"
   ]
  },
  {
   "cell_type": "markdown",
   "id": "9a174b8e",
   "metadata": {},
   "source": [
    "### Understanding a seed\n",
    "The <mark>seed()</mark>method is used to initialize the random number generator.\n",
    "The random number generator needs a number to start with (a seed value), to be able to generate a random number.\n",
    "By default the random number generator uses the current system time.\n",
    "Use the seed() method to customize the start number of the random number generator."
   ]
  },
  {
   "cell_type": "code",
   "execution_count": 1,
   "id": "6dced68b",
   "metadata": {},
   "outputs": [],
   "source": [
    "import random"
   ]
  },
  {
   "cell_type": "code",
   "execution_count": 4,
   "id": "a90d387e",
   "metadata": {},
   "outputs": [
    {
     "data": {
      "text/plain": [
       "77"
      ]
     },
     "execution_count": 4,
     "metadata": {},
     "output_type": "execute_result"
    }
   ],
   "source": [
    "random.randint(0, 100)"
   ]
  },
  {
   "cell_type": "markdown",
   "id": "50325e79",
   "metadata": {},
   "source": [
    "Setting a seed allows us to start from a seeded pseudo random number generator, which means the same random numbers will show in a series - same bach."
   ]
  },
  {
   "cell_type": "code",
   "execution_count": 8,
   "id": "78045ffd",
   "metadata": {},
   "outputs": [
    {
     "data": {
      "text/plain": [
       "74"
      ]
     },
     "execution_count": 8,
     "metadata": {},
     "output_type": "execute_result"
    }
   ],
   "source": [
    "# The value 101 is completely arbitrary, you can pass in any number you want\n",
    "random.seed(101)\n",
    "# You can run this cell as many times as you want, it will always return the same number\n",
    "random.randint(0,100)"
   ]
  },
  {
   "cell_type": "code",
   "execution_count": 9,
   "id": "bac6d681",
   "metadata": {},
   "outputs": [
    {
     "data": {
      "text/plain": [
       "24"
      ]
     },
     "execution_count": 9,
     "metadata": {},
     "output_type": "execute_result"
    }
   ],
   "source": [
    "random.randint(0, 100)"
   ]
  },
  {
   "cell_type": "code",
   "execution_count": 10,
   "id": "908e78de",
   "metadata": {},
   "outputs": [
    {
     "name": "stdout",
     "output_type": "stream",
     "text": [
      "74\n",
      "24\n",
      "69\n",
      "45\n",
      "59\n"
     ]
    }
   ],
   "source": [
    "# The value 101 is completely arbitrary, you can pass in any number you want\n",
    "random.seed(101)\n",
    "print(random.randint(0,100))\n",
    "print(random.randint(0,100))\n",
    "print(random.randint(0,100))\n",
    "print(random.randint(0,100))\n",
    "print(random.randint(0,100))"
   ]
  },
  {
   "cell_type": "markdown",
   "id": "5aae8fef",
   "metadata": {},
   "source": [
    "#### Taking a random item from a list "
   ]
  },
  {
   "cell_type": "code",
   "execution_count": 19,
   "id": "579288b5",
   "metadata": {},
   "outputs": [],
   "source": [
    "# Example: Random with a sequen - grabbing random number from a list \n",
    "mylist = list(range(0, 20))"
   ]
  },
  {
   "cell_type": "code",
   "execution_count": 12,
   "id": "6162c3c5",
   "metadata": {},
   "outputs": [
    {
     "data": {
      "text/plain": [
       "[0, 1, 2, 3, 4, 5, 6, 7, 8, 9, 10, 11, 12, 13, 14, 15, 16, 17, 18, 19]"
      ]
     },
     "execution_count": 12,
     "metadata": {},
     "output_type": "execute_result"
    }
   ],
   "source": [
    "mylist"
   ]
  },
  {
   "cell_type": "code",
   "execution_count": 13,
   "id": "361d1f78",
   "metadata": {},
   "outputs": [
    {
     "data": {
      "text/plain": [
       "1"
      ]
     },
     "execution_count": 13,
     "metadata": {},
     "output_type": "execute_result"
    }
   ],
   "source": [
    "# Grabbing one item from the list \n",
    "random.choice(mylist)"
   ]
  },
  {
   "cell_type": "code",
   "execution_count": 16,
   "id": "8e10d634",
   "metadata": {},
   "outputs": [
    {
     "data": {
      "text/plain": [
       "[13, 4, 4, 5, 13, 4, 19, 1, 3, 1]"
      ]
     },
     "execution_count": 16,
     "metadata": {},
     "output_type": "execute_result"
    }
   ],
   "source": [
    "# Grabbing multiple (5) items from the list \n",
    "# Example 1: Sample with replacement - allowing interger we choose more than once \n",
    "random.choices(population = mylist, k = 10)"
   ]
  },
  {
   "cell_type": "code",
   "execution_count": 18,
   "id": "1678a7d4",
   "metadata": {},
   "outputs": [
    {
     "data": {
      "text/plain": [
       "[17, 11, 6, 15, 10, 3, 16, 12, 19, 18]"
      ]
     },
     "execution_count": 18,
     "metadata": {},
     "output_type": "execute_result"
    }
   ],
   "source": [
    "# Example 2: Sample wihtout replacement - meaning once the number is chosen, it does not get pick again\n",
    "random.sample(population = mylist, k = 10)"
   ]
  },
  {
   "cell_type": "markdown",
   "id": "78bd649e",
   "metadata": {},
   "source": [
    "### Shuffling a List "
   ]
  },
  {
   "cell_type": "code",
   "execution_count": 20,
   "id": "75e04885",
   "metadata": {},
   "outputs": [
    {
     "data": {
      "text/plain": [
       "[0, 1, 2, 3, 4, 5, 6, 7, 8, 9, 10, 11, 12, 13, 14, 15, 16, 17, 18, 19]"
      ]
     },
     "execution_count": 20,
     "metadata": {},
     "output_type": "execute_result"
    }
   ],
   "source": [
    "mylist"
   ]
  },
  {
   "cell_type": "code",
   "execution_count": 23,
   "id": "a712a287",
   "metadata": {},
   "outputs": [],
   "source": [
    "# Shuffling in place\n",
    "random.shuffle(mylist)"
   ]
  },
  {
   "cell_type": "code",
   "execution_count": 24,
   "id": "b883b62c",
   "metadata": {},
   "outputs": [
    {
     "data": {
      "text/plain": [
       "[4, 12, 14, 19, 8, 9, 5, 0, 17, 6, 15, 13, 2, 10, 16, 11, 7, 3, 18, 1]"
      ]
     },
     "execution_count": 24,
     "metadata": {},
     "output_type": "execute_result"
    }
   ],
   "source": [
    "mylist"
   ]
  },
  {
   "cell_type": "markdown",
   "id": "7885e401",
   "metadata": {},
   "source": [
    "### Random Distributions\n",
    "\n",
    "* [Uniform Distribution](https://en.wikipedia.org/wiki/Uniform_distribution)\n",
    "* [Normal/Gaussian Distribution](https://en.wikipedia.org/wiki/Normal_distribution)"
   ]
  },
  {
   "cell_type": "code",
   "execution_count": 25,
   "id": "0a4dfac4",
   "metadata": {},
   "outputs": [
    {
     "data": {
      "text/plain": [
       "40.46746766929902"
      ]
     },
     "execution_count": 25,
     "metadata": {},
     "output_type": "execute_result"
    }
   ],
   "source": [
    "# Continuous, random picks a value between a and b, each value has equal change of being picked.\n",
    "random.uniform(a = 0,b = 100)"
   ]
  },
  {
   "cell_type": "markdown",
   "id": "d7f4e9f3",
   "metadata": {},
   "source": [
    "*** If you find yourself using these libraries a lot see the NumPy library."
   ]
  }
 ],
 "metadata": {
  "kernelspec": {
   "display_name": "Python 3 (ipykernel)",
   "language": "python",
   "name": "python3"
  },
  "language_info": {
   "codemirror_mode": {
    "name": "ipython",
    "version": 3
   },
   "file_extension": ".py",
   "mimetype": "text/x-python",
   "name": "python",
   "nbconvert_exporter": "python",
   "pygments_lexer": "ipython3",
   "version": "3.9.12"
  }
 },
 "nbformat": 4,
 "nbformat_minor": 5
}
