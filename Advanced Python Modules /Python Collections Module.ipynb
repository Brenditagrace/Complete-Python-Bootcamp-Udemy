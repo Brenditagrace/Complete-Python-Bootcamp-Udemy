{
 "cells": [
  {
   "cell_type": "markdown",
   "id": "2f2a1d6c",
   "metadata": {},
   "source": [
    "1. ### Collections: \n",
    "is a built-in Python module that implements specialized container datatypes providing alternatives to Python's general purpose built-in containers such as dict , list , set , and tuple .\n",
    "\n",
    "2. ### Counter: \n",
    "is a dict subclass for counting hashable objects. It is a collection where elements are stored as dictionary keys and their counts are stored as dictionary values. Counts are allowed to be any integer value including zero or negative counts\n",
    "\n",
    "3. ### defultdict: \n",
    "a subdivision of the dict class. Its importance lies in the fact that it allows each new key to be given a default value based on the type of dictionary being created. A defaultdict can be created by giving its declaration an argument that can have three values; list, set or int.\n",
    "\n",
    "4. ### namedtuple: \n",
    "is a factory function available in collections. It allows you to create tuple subclasses with named fields. You can access the values in a given named tuple using the dot notation and the field names, like in obj. attr .\n"
   ]
  },
  {
   "cell_type": "code",
   "execution_count": 7,
   "id": "c161d503",
   "metadata": {},
   "outputs": [
    {
     "data": {
      "text/plain": [
       "Counter({'a': 6, 'b': 6, 'j': 3, 't': 4})"
      ]
     },
     "execution_count": 7,
     "metadata": {},
     "output_type": "execute_result"
    }
   ],
   "source": [
    "# Example 1: Counter class\n",
    "\n",
    "# Importing the counter class\n",
    "from collections import Counter \n",
    "\n",
    "# As a List\n",
    "myList = [1, 1, 1, 1, 1, 1, 2, 2, 2, 2, 2, 2, 3, 3, 3, 3]\n",
    "\n",
    "# Passing myList to Counter to count the unique instances in myList \n",
    "Counter(myList)\n",
    "\n",
    "# As a String \n",
    "myListStr = ['a', 'a', 10, 10, 10]\n",
    "\n",
    "Counter(myListStr)\n",
    "# Output we get is similar to a dictionary \n",
    "# Elements are stored as dictionary keys and the count objects are stored as the values \n",
    "\n",
    "# as a String again\n",
    "Counter ('aaaaaabbbbbbjjjtttt')\n"
   ]
  },
  {
   "cell_type": "code",
   "execution_count": 9,
   "id": "70d39a31",
   "metadata": {},
   "outputs": [
    {
     "ename": "AttributeError",
     "evalue": "'str' object has no attribute 'spilt'",
     "output_type": "error",
     "traceback": [
      "\u001b[0;31m---------------------------------------------------------------------------\u001b[0m",
      "\u001b[0;31mAttributeError\u001b[0m                            Traceback (most recent call last)",
      "Input \u001b[0;32mIn [9]\u001b[0m, in \u001b[0;36m<cell line: 5>\u001b[0;34m()\u001b[0m\n\u001b[1;32m      2\u001b[0m sentence \u001b[38;5;241m=\u001b[39m \u001b[38;5;124m'\u001b[39m\u001b[38;5;124mHow many times does each letter show up in this sentences with a word\u001b[39m\u001b[38;5;124m'\u001b[39m\n\u001b[1;32m      4\u001b[0m \u001b[38;5;66;03m# Splitting sentence for white space, call lower case for capitalize versions\u001b[39;00m\n\u001b[0;32m----> 5\u001b[0m Counter(\u001b[43msentence\u001b[49m\u001b[38;5;241;43m.\u001b[39;49m\u001b[43mlower\u001b[49m\u001b[43m(\u001b[49m\u001b[43m)\u001b[49m\u001b[38;5;241;43m.\u001b[39;49m\u001b[43mspilt\u001b[49m())\n\u001b[1;32m      7\u001b[0m \u001b[38;5;66;03m# Common patterns when using \u001b[39;00m\n\u001b[1;32m      8\u001b[0m letters \u001b[38;5;241m=\u001b[39m \u001b[38;5;124m'\u001b[39m\u001b[38;5;124maaaaaaabbbbbddddeeegggg\u001b[39m\u001b[38;5;124m'\u001b[39m\n",
      "\u001b[0;31mAttributeError\u001b[0m: 'str' object has no attribute 'spilt'"
     ]
    }
   ],
   "source": [
    "# Example with a sentence and split\n",
    "sentence = 'How many times does each letter show up in this sentences with a word'\n",
    "\n",
    "# Splitting sentence for white space, call lower case for capitalize versions\n",
    "Counter(sentence.lower())\n",
    "\n",
    "# Common patterns when using \n",
    "letters = 'aaaaaaabbbbbddddeeegggg'\n",
    "\n",
    "c = Counter(letters)\n",
    "# Returns most common as Tuple \n",
    "# Inside () we can also indicate the 2 or 3 of most common\n",
    "c.most_common(2) \n"
   ]
  },
  {
   "cell_type": "code",
   "execution_count": 14,
   "id": "0260073f",
   "metadata": {},
   "outputs": [
    {
     "data": {
      "text/plain": [
       "0"
      ]
     },
     "execution_count": 14,
     "metadata": {},
     "output_type": "execute_result"
    }
   ],
   "source": [
    "# Example: Default Dictionary\n",
    "\n",
    "from collections import defaultdict\n",
    "\n",
    "d = defaultdict(lambda: 0)\n",
    "\n",
    "d['correct'] = 100\n",
    "\n",
    "# When assigning values that do not already exist in “d” - it will get automatically assign the “0”\n",
    "d['WRONG KEY']\n"
   ]
  },
  {
   "cell_type": "code",
   "execution_count": 15,
   "id": "fabc197c",
   "metadata": {},
   "outputs": [
    {
     "data": {
      "text/plain": [
       "5"
      ]
     },
     "execution_count": 15,
     "metadata": {},
     "output_type": "execute_result"
    }
   ],
   "source": [
    "# Example namedtuple\n",
    "from collections import namedtuple\n",
    "\n",
    "# Constructing a Tuple\n",
    "Dog = namedtuple('Dod', ['age', 'breed', 'name'])\n",
    "\n",
    "# Creating instances of dog object\n",
    "sammy = Dog(age = 5, breed = 'Husky', name = 'Sam')\n",
    "\n",
    "#We can call them just attribute \n",
    "sammy.breed\n",
    "\n",
    "# Calling for index position \n",
    "sammy[0]"
   ]
  },
  {
   "cell_type": "code",
   "execution_count": null,
   "id": "6145d602",
   "metadata": {},
   "outputs": [],
   "source": []
  }
 ],
 "metadata": {
  "kernelspec": {
   "display_name": "Python 3 (ipykernel)",
   "language": "python",
   "name": "python3"
  },
  "language_info": {
   "codemirror_mode": {
    "name": "ipython",
    "version": 3
   },
   "file_extension": ".py",
   "mimetype": "text/x-python",
   "name": "python",
   "nbconvert_exporter": "python",
   "pygments_lexer": "ipython3",
   "version": "3.9.12"
  }
 },
 "nbformat": 4,
 "nbformat_minor": 5
}
