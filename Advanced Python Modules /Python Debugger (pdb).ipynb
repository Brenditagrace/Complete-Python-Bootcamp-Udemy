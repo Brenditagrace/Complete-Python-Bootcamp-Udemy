{
 "cells": [
  {
   "cell_type": "markdown",
   "id": "978f2f4e",
   "metadata": {},
   "source": [
    "### pdb Module\n",
    "Debugging in Python is facilitated by pdb module(python debugger) which comes built-in to the Python standard library. It is actually defined as the class Pdb which internally makes use of bdb(basic debugger functions) and cmd(support for line-oriented command interpreters) modules. The major advantage of pdb is it runs purely in the command line thereby making it great for debugging code on remote servers when we don’t have the privilege of a GUI-based debugger. \n",
    "pdb supports- \n",
    "* Setting breakpoints\n",
    "* Stepping through code\n",
    "* Source code listing\n",
    "* Viewing stack traces\n",
    "\n",
    "* [pdb offical docummentation](https://link-url-here.org)"
   ]
  },
  {
   "cell_type": "markdown",
   "id": "c7aef196",
   "metadata": {},
   "source": [
    "To debug generally we use print(), but at some point we are adding too many print functions to hone what the error is. "
   ]
  },
  {
   "cell_type": "code",
   "execution_count": null,
   "id": "18c25ba4",
   "metadata": {},
   "outputs": [],
   "source": [
    "# Example: Using the Python debugger to set a trace \n",
    "x = [1, 2, 3]\n",
    "y = 2\n",
    "z = 3 \n",
    "\n",
    "# Importing the Python debugger\n",
    "import pdb\n",
    "\n",
    "x = [1, 2, 3]\n",
    "y = 2\n",
    "z = 3\n",
    "\n",
    "result1 = y + z\n",
    "print(result1)\n",
    "\n",
    "# Setting trace before error line \n",
    "pdb.set_trace()\n",
    "\n",
    "# For example purpose, we already know this is not going to work \n",
    "result2 = y + x \n",
    "print(result2)"
   ]
  },
  {
   "cell_type": "markdown",
   "id": "b64a5867",
   "metadata": {},
   "source": [
    "#### We will pause at mid script and it will allow us to explore the error "
   ]
  },
  {
   "cell_type": "markdown",
   "id": "8debd9c3",
   "metadata": {},
   "source": [
    "Keep in mind that with Python we are supposed to figure out the error. Pdb is allowing us to explore in large scripts figure out the error, especially in mid operation\n",
    "\n",
    "--> to quit debugger\n",
    "Type <mark><b> q </mark></b>\n"
   ]
  },
  {
   "cell_type": "code",
   "execution_count": null,
   "id": "4f2cb4c2",
   "metadata": {},
   "outputs": [],
   "source": []
  }
 ],
 "metadata": {
  "kernelspec": {
   "display_name": "Python 3 (ipykernel)",
   "language": "python",
   "name": "python3"
  },
  "language_info": {
   "codemirror_mode": {
    "name": "ipython",
    "version": 3
   },
   "file_extension": ".py",
   "mimetype": "text/x-python",
   "name": "python",
   "nbconvert_exporter": "python",
   "pygments_lexer": "ipython3",
   "version": "3.9.12"
  }
 },
 "nbformat": 4,
 "nbformat_minor": 5
}
