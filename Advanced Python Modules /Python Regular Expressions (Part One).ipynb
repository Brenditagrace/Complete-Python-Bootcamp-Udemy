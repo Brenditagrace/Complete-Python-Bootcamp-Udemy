{
 "cells": [
  {
   "cell_type": "markdown",
   "id": "b51dc82f",
   "metadata": {},
   "source": [
    "### regex \n",
    "A RegEx, or Regular Expression, is a sequence of characters that forms a search pattern.\n",
    "RegEx can be used to check if a string contains the specified search pattern.\n",
    "Understanding how to look up information"
   ]
  },
  {
   "cell_type": "markdown",
   "id": "408a4a56",
   "metadata": {},
   "source": [
    "Example 1: \n",
    "Pattern of a phone number: (555)-555-5555\n",
    " * \\d means digits\n",
    " \n",
    "\n",
    "Regex Pattern: r’(\\d\\d\\d)-\\d\\d\\d-\\d\\d\\d\\d’\n",
    "\n",
    "Using quantifiers\n",
    "r’(\\d{3})-\\d{3}-\\d{4}’\n"
   ]
  },
  {
   "cell_type": "code",
   "execution_count": null,
   "id": "36c3ef1c",
   "metadata": {},
   "outputs": [],
   "source": []
  }
 ],
 "metadata": {
  "kernelspec": {
   "display_name": "Python 3 (ipykernel)",
   "language": "python",
   "name": "python3"
  },
  "language_info": {
   "codemirror_mode": {
    "name": "ipython",
    "version": 3
   },
   "file_extension": ".py",
   "mimetype": "text/x-python",
   "name": "python",
   "nbconvert_exporter": "python",
   "pygments_lexer": "ipython3",
   "version": "3.9.12"
  }
 },
 "nbformat": 4,
 "nbformat_minor": 5
}
