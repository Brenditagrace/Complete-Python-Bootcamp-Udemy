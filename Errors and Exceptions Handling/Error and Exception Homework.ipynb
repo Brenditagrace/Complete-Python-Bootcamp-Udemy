{
 "cells": [
  {
   "cell_type": "markdown",
   "id": "716fe58a",
   "metadata": {},
   "source": [
    "### Problem 1\n",
    "Handle the exception thrown by the code below by using <code>try</code> and <code>except</code> blocks."
   ]
  },
  {
   "cell_type": "code",
   "execution_count": 5,
   "id": "0f1cc0fe",
   "metadata": {},
   "outputs": [
    {
     "name": "stdout",
     "output_type": "stream",
     "text": [
      "General error. Watch out!\n"
     ]
    }
   ],
   "source": [
    "try: \n",
    "    for i in ['a', 'b', 'c']:\n",
    "        print (i ** 2)\n",
    "except:\n",
    "    print ('General error. Watch out!')"
   ]
  },
  {
   "cell_type": "markdown",
   "id": "34a7ccdb",
   "metadata": {},
   "source": [
    "### Problem 2\n",
    "Handle the exception thrown by the code below by using <code>try</code> and <code>except</code> blocks. Then use a <code>finally</code> block to print 'All Done.'"
   ]
  },
  {
   "cell_type": "code",
   "execution_count": 9,
   "id": "3717ce28",
   "metadata": {},
   "outputs": [
    {
     "name": "stdout",
     "output_type": "stream",
     "text": [
      "Error!\n",
      "All done!\n"
     ]
    }
   ],
   "source": [
    "try:\n",
    "    x = 5\n",
    "    y = 0\n",
    "    z = x / y\n",
    "except:\n",
    "    print ('Error!')\n",
    "finally:\n",
    "    print('All done!')"
   ]
  },
  {
   "cell_type": "markdown",
   "id": "b868d165",
   "metadata": {},
   "source": [
    "### Problem 3\n",
    "Write a function that asks for an integer and prints the square of it. Use a <code>while</code> loop with a <code>try</code>, <code>except</code>, <code>else</code> block to account for incorrect inputs."
   ]
  },
  {
   "cell_type": "code",
   "execution_count": 17,
   "id": "55db5dcf",
   "metadata": {},
   "outputs": [],
   "source": [
    "def ask():\n",
    "    \n",
    "    while True:\n",
    "        try:\n",
    "            n = int(input('Enter a number: '))\n",
    "        except:\n",
    "            print ('Please try again! \\n')\n",
    "            continue\n",
    "        else:\n",
    "            break\n",
    "            \n",
    "    print ('Your number squared is: ')\n",
    "    print (n ** 2)"
   ]
  },
  {
   "cell_type": "code",
   "execution_count": 18,
   "id": "9baf0dfd",
   "metadata": {},
   "outputs": [
    {
     "name": "stdout",
     "output_type": "stream",
     "text": [
      "Enter a number: 10\n",
      "Your number squared is: \n",
      "100\n"
     ]
    }
   ],
   "source": [
    "ask()"
   ]
  }
 ],
 "metadata": {
  "kernelspec": {
   "display_name": "Python 3 (ipykernel)",
   "language": "python",
   "name": "python3"
  },
  "language_info": {
   "codemirror_mode": {
    "name": "ipython",
    "version": 3
   },
   "file_extension": ".py",
   "mimetype": "text/x-python",
   "name": "python",
   "nbconvert_exporter": "python",
   "pygments_lexer": "ipython3",
   "version": "3.9.12"
  }
 },
 "nbformat": 4,
 "nbformat_minor": 5
}
