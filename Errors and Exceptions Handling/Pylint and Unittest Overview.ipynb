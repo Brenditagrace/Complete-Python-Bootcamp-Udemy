{
 "cells": [
  {
   "cell_type": "markdown",
   "id": "0387451e",
   "metadata": {},
   "source": [
    "### Pylint\n",
    "\n",
    "Pylint is a static code analyser for Python 2 or 3.\n",
    "\n",
    "Pylint analyses your code without actually running it. It checks for errors, enforces a coding standard, looks for code smells, and can make suggestions about how the code could be refactored. Pylint can infer actual values from your code using its internal code representation (astroid). If your code is import logging as argparse, Pylint will know that argparse.error(...) is in fact a logging call and not an argparse call.\n",
    "\n",
    "### Unittest\n",
    "\n",
    "A unit test is a test that checks a single component of code, usually modularized as a function, and ensures that it performs as expected. Unit tests are an important part of regression testing to ensure that the code still functions as expected after making changes to the code and helps ensure code stability."
   ]
  },
  {
   "cell_type": "code",
   "execution_count": 6,
   "id": "e04196a5",
   "metadata": {},
   "outputs": [
    {
     "name": "stdout",
     "output_type": "stream",
     "text": [
      "1\n"
     ]
    },
    {
     "ename": "NameError",
     "evalue": "name 'B' is not defined",
     "output_type": "error",
     "traceback": [
      "\u001b[0;31m---------------------------------------------------------------------------\u001b[0m",
      "\u001b[0;31mNameError\u001b[0m                                 Traceback (most recent call last)",
      "Input \u001b[0;32mIn [6]\u001b[0m, in \u001b[0;36m<cell line: 8>\u001b[0;34m()\u001b[0m\n\u001b[1;32m      5\u001b[0m b \u001b[38;5;241m=\u001b[39m \u001b[38;5;241m2\u001b[39m\n\u001b[1;32m      7\u001b[0m \u001b[38;5;28mprint\u001b[39m (a)\n\u001b[0;32m----> 8\u001b[0m \u001b[38;5;28mprint\u001b[39m (\u001b[43mB\u001b[49m)\n\u001b[1;32m     10\u001b[0m \u001b[38;5;66;03m# in Terminal run\u001b[39;00m\n\u001b[1;32m     11\u001b[0m \u001b[38;5;124;03m''' pylint textCreatedOnSublime.py '''\u001b[39;00m\n",
      "\u001b[0;31mNameError\u001b[0m: name 'B' is not defined"
     ]
    }
   ],
   "source": [
    "# Example of pylint\n",
    "# Write a script on Sublime\n",
    "\n",
    "a = 1 \n",
    "b = 2\n",
    "\n",
    "print (a)\n",
    "print (B)\n",
    "\n",
    "# in Terminal run\n",
    "''' pylint textCreatedOnSublime.py '''"
   ]
  },
  {
   "cell_type": "code",
   "execution_count": 15,
   "id": "13da1caa",
   "metadata": {},
   "outputs": [],
   "source": [
    "# Example of unittest\n",
    "# Create two scripts on Sublime\n",
    "\n",
    "# Fisrt script\n",
    "\n",
    "def cap_text(text):\n",
    "    # Tittle will return all capital letters of first leter\n",
    "    return text.tittle()"
   ]
  },
  {
   "cell_type": "code",
   "execution_count": 13,
   "id": "b10cc87a",
   "metadata": {},
   "outputs": [
    {
     "ename": "ModuleNotFoundError",
     "evalue": "No module named 'unnitest'",
     "output_type": "error",
     "traceback": [
      "\u001b[0;31m---------------------------------------------------------------------------\u001b[0m",
      "\u001b[0;31mModuleNotFoundError\u001b[0m                       Traceback (most recent call last)",
      "Input \u001b[0;32mIn [13]\u001b[0m, in \u001b[0;36m<cell line: 3>\u001b[0;34m()\u001b[0m\n\u001b[1;32m      1\u001b[0m \u001b[38;5;66;03m# Second Script \u001b[39;00m\n\u001b[0;32m----> 3\u001b[0m \u001b[38;5;28;01mimport\u001b[39;00m \u001b[38;5;21;01munnitest\u001b[39;00m\n\u001b[1;32m      4\u001b[0m \u001b[38;5;28;01mimport\u001b[39;00m \u001b[38;5;21;01mcap\u001b[39;00m\n\u001b[1;32m      6\u001b[0m \u001b[38;5;28;01mclass\u001b[39;00m \u001b[38;5;21;01mTestCap\u001b[39;00m(unittest\u001b[38;5;241m.\u001b[39mTestCase):\n",
      "\u001b[0;31mModuleNotFoundError\u001b[0m: No module named 'unnitest'"
     ]
    }
   ],
   "source": [
    "# Second Script \n",
    "\n",
    "import unnitest\n",
    "import cap\n",
    "\n",
    "class TestCap(unittest.TestCase):\n",
    "    \n",
    "    def test_one_word(self):\n",
    "        text = 'python'\n",
    "        result = cap.cap_text(text)\n",
    "        self.assertEqual(result, 'Python')\n",
    "        \n",
    "    def test_multiple_words(self):\n",
    "        text = 'monty python'\n",
    "        result = cap.cap_text(text)\n",
    "        self.assertEqual(result, 'Montty Python')\n",
    "        \n",
    "if __name__=='__main__':\n",
    "    unnitest.main()\n",
    "    "
   ]
  }
 ],
 "metadata": {
  "kernelspec": {
   "display_name": "Python 3 (ipykernel)",
   "language": "python",
   "name": "python3"
  },
  "language_info": {
   "codemirror_mode": {
    "name": "ipython",
    "version": 3
   },
   "file_extension": ".py",
   "mimetype": "text/x-python",
   "name": "python",
   "nbconvert_exporter": "python",
   "pygments_lexer": "ipython3",
   "version": "3.9.12"
  }
 },
 "nbformat": 4,
 "nbformat_minor": 5
}
