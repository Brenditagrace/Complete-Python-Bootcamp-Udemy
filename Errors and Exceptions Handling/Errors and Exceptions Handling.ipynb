{
 "cells": [
  {
   "cell_type": "markdown",
   "id": "c254c121",
   "metadata": {},
   "source": [
    "<h2><b>Errors and Exceptions in Python</h2></b>\n",
    "\n",
    "rrors are the problems in a program due to which the program will stop the execution. On the other hand, exceptions are raised when some internal events occur which changes the normal flow of the program. \n",
    "Two types of Error occurs in python. \n",
    " \n",
    "\n",
    "1. Syntax errors: When the proper syntax of the language is not followed then a syntax error is thrown.\n",
    "\n",
    "2. Logical errors (Exceptions): When in the runtime an error that occurs after passing the syntax test is called exception or logical type. For example, when we divide any number by zero then the ZeroDivisionError exception is raised, or when we import a module that does not exist then ImportError is raised.\n",
    "\n",
    "## Error Handling\n",
    "\n",
    "Handling Exceptions with <mark>Try/ Except/ Finally</mark>\n",
    "We can handle errors by the Try/Except/Finally method. We write unsafe code in the try, fall back code in except and final code in finally block."
   ]
  },
  {
   "cell_type": "code",
   "execution_count": 3,
   "id": "f3fc8a3a",
   "metadata": {},
   "outputs": [],
   "source": [
    "# Example 1:\n",
    "\n",
    "def add (n1, n2):\n",
    "    print (n1 + n2)"
   ]
  },
  {
   "cell_type": "code",
   "execution_count": 4,
   "id": "f4044d1a",
   "metadata": {},
   "outputs": [
    {
     "name": "stdout",
     "output_type": "stream",
     "text": [
      "30\n"
     ]
    }
   ],
   "source": [
    "add (10, 20)"
   ]
  },
  {
   "cell_type": "code",
   "execution_count": 5,
   "id": "2a20c819",
   "metadata": {},
   "outputs": [],
   "source": [
    "number1 = 10"
   ]
  },
  {
   "cell_type": "code",
   "execution_count": 6,
   "id": "b9084c60",
   "metadata": {},
   "outputs": [
    {
     "name": "stdout",
     "output_type": "stream",
     "text": [
      "Please provide a number: 20\n"
     ]
    }
   ],
   "source": [
    "number2 = input (\"Please provide a number: \")"
   ]
  },
  {
   "cell_type": "code",
   "execution_count": 7,
   "id": "d6c407a0",
   "metadata": {},
   "outputs": [
    {
     "ename": "TypeError",
     "evalue": "unsupported operand type(s) for +: 'int' and 'str'",
     "output_type": "error",
     "traceback": [
      "\u001b[0;31m---------------------------------------------------------------------------\u001b[0m",
      "\u001b[0;31mTypeError\u001b[0m                                 Traceback (most recent call last)",
      "Input \u001b[0;32mIn [7]\u001b[0m, in \u001b[0;36m<cell line: 1>\u001b[0;34m()\u001b[0m\n\u001b[0;32m----> 1\u001b[0m \u001b[43madd\u001b[49m\u001b[43m \u001b[49m\u001b[43m(\u001b[49m\u001b[43mnumber1\u001b[49m\u001b[43m,\u001b[49m\u001b[43m \u001b[49m\u001b[43mnumber2\u001b[49m\u001b[43m)\u001b[49m\n",
      "Input \u001b[0;32mIn [3]\u001b[0m, in \u001b[0;36madd\u001b[0;34m(n1, n2)\u001b[0m\n\u001b[1;32m      3\u001b[0m \u001b[38;5;28;01mdef\u001b[39;00m \u001b[38;5;21madd\u001b[39m (n1, n2):\n\u001b[0;32m----> 4\u001b[0m     \u001b[38;5;28mprint\u001b[39m (\u001b[43mn1\u001b[49m\u001b[43m \u001b[49m\u001b[38;5;241;43m+\u001b[39;49m\u001b[43m \u001b[49m\u001b[43mn2\u001b[49m)\n",
      "\u001b[0;31mTypeError\u001b[0m: unsupported operand type(s) for +: 'int' and 'str'"
     ]
    }
   ],
   "source": [
    "# Inducing TypeError\n",
    "\n",
    "add (number1, number2)"
   ]
  },
  {
   "cell_type": "code",
   "execution_count": 11,
   "id": "5692e49c",
   "metadata": {},
   "outputs": [
    {
     "name": "stdout",
     "output_type": "stream",
     "text": [
      "Hey it looks like you are not adding correctly!\n"
     ]
    }
   ],
   "source": [
    "# Example 2 - Try, Except, Else Statement:\n",
    "\n",
    "try:\n",
    "    # WANT TO ATTEMPT THIS CODE\n",
    "    # MAY HAVE AN ERROR \n",
    "    result = 10 + \"10\"\n",
    "except:\n",
    "    print (\"Hey it looks like you are not adding correctly!\")\n",
    "else: \n",
    "    print (\"Add went well!\")\n",
    "    print (result)"
   ]
  },
  {
   "cell_type": "code",
   "execution_count": 14,
   "id": "02f3c5e6",
   "metadata": {},
   "outputs": [
    {
     "name": "stdout",
     "output_type": "stream",
     "text": [
      "Hey, you have an OS Error\n",
      "I always run!\n"
     ]
    }
   ],
   "source": [
    "# Example 3 - Try, Except, Finally\n",
    "\n",
    "try: \n",
    "    f = open ('testFile', 'r')\n",
    "    f.write (\"Write a test line.\")\n",
    "except TypeError:\n",
    "    print ('Hey, you have a Type Error')\n",
    "except OSError:\n",
    "    print ('Hey, you have an OS Error')\n",
    "finally: \n",
    "    print ('I always run!')"
   ]
  },
  {
   "cell_type": "code",
   "execution_count": null,
   "id": "47c57ab9",
   "metadata": {},
   "outputs": [],
   "source": [
    "# Example 4 - Try, Except, Finally Errors inside a function"
   ]
  }
 ],
 "metadata": {
  "kernelspec": {
   "display_name": "Python 3 (ipykernel)",
   "language": "python",
   "name": "python3"
  },
  "language_info": {
   "codemirror_mode": {
    "name": "ipython",
    "version": 3
   },
   "file_extension": ".py",
   "mimetype": "text/x-python",
   "name": "python",
   "nbconvert_exporter": "python",
   "pygments_lexer": "ipython3",
   "version": "3.9.12"
  }
 },
 "nbformat": 4,
 "nbformat_minor": 5
}
